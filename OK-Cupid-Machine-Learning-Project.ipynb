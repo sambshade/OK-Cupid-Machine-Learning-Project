{
 "cells": [
  {
   "cell_type": "markdown",
   "id": "a20526b3",
   "metadata": {},
   "source": [
    "# OK-Cupid-Date-A-Scientist \n",
    "#### Machine Learning Project from Codecademy\n",
    "\n",
    "The following code analyzes the data of several members of a fictional online dating database. The code examines the distribution of several variables and uses machine learning to attempt to predict religion, body type, and astrological signs based on the other variables. \n",
    "\n",
    "The columns in the dataset include: \n",
    "\n",
    "* `age`: continuous variable of age of user\n",
    "* `body_type`: categorical variable of body type of user\n",
    "* `diet`: categorical variable of dietary information\n",
    "* `drinks`: categorical variable of alcohol consumption\n",
    "* `drugs`: categorical variable of drug usage\n",
    "* `education`: categorical variable of educational attainment\n",
    "* `ethnicity`: categorical variable of ethnic backgrounds\n",
    "* `height`: continuous variable of height of user\n",
    "* `income`: continuous variable of income of user\n",
    "* `job`: categorical variable of employment description\n",
    "* `offspring`: categorical variable of children status\n",
    "* `orientation`: categorical variable of sexual orientation\n",
    "* `pets`: categorical variable of pet preferences\n",
    "* `religion`: categorical variable of religious background\n",
    "* `sex`: categorical variable of gender\n",
    "* `sign`: categorical variable of astrological symbol\n",
    "* `smokes`: categorical variable of smoking consumption\n",
    "* `speaks`: categorical variable of language spoken\n",
    "* `status`: categorical variable of relationship status\n",
    "* `last_online`: date variable of last login\n",
    "* `location`: categorical variable of user locations\n",
    "\n",
    "And a set of open short-answer responses to :\n",
    "\n",
    "* `essay0`: My self summary\n",
    "* `essay1`: What I’m doing with my life\n",
    "* `essay2`: I’m really good at\n",
    "* `essay3`: The first thing people usually notice about me\n",
    "* `essay4`: Favorite books, movies, show, music, and food\n",
    "* `essay5`: The six things I could never do without\n",
    "* `essay6`: I spend a lot of time thinking about\n",
    "* `essay7`: On a typical Friday night I am\n",
    "* `essay8`: The most private thing I am willing to admit\n",
    "* `essay9`: You should message me if…"
   ]
  },
  {
   "cell_type": "code",
   "execution_count": 1,
   "id": "88ac9582",
   "metadata": {},
   "outputs": [],
   "source": [
    "import numpy as np\n",
    "import pandas as pd\n",
    "\n",
    "from matplotlib import pyplot as plt\n",
    "import seaborn as sns\n",
    "\n",
    "plt.rcParams['figure.figsize'] = [6, 6]\n",
    "%matplotlib inline\n",
    "\n",
    "import warnings\n",
    "warnings.filterwarnings('ignore')"
   ]
  },
  {
   "cell_type": "code",
   "execution_count": 2,
   "id": "3303bf89",
   "metadata": {
    "scrolled": true
   },
   "outputs": [
    {
     "data": {
      "text/html": [
       "<div>\n",
       "<style scoped>\n",
       "    .dataframe tbody tr th:only-of-type {\n",
       "        vertical-align: middle;\n",
       "    }\n",
       "\n",
       "    .dataframe tbody tr th {\n",
       "        vertical-align: top;\n",
       "    }\n",
       "\n",
       "    .dataframe thead th {\n",
       "        text-align: right;\n",
       "    }\n",
       "</style>\n",
       "<table border=\"1\" class=\"dataframe\">\n",
       "  <thead>\n",
       "    <tr style=\"text-align: right;\">\n",
       "      <th></th>\n",
       "      <th>age</th>\n",
       "      <th>body_type</th>\n",
       "      <th>diet</th>\n",
       "      <th>drinks</th>\n",
       "      <th>drugs</th>\n",
       "      <th>education</th>\n",
       "      <th>essay0</th>\n",
       "      <th>essay1</th>\n",
       "      <th>essay2</th>\n",
       "      <th>essay3</th>\n",
       "      <th>...</th>\n",
       "      <th>location</th>\n",
       "      <th>offspring</th>\n",
       "      <th>orientation</th>\n",
       "      <th>pets</th>\n",
       "      <th>religion</th>\n",
       "      <th>sex</th>\n",
       "      <th>sign</th>\n",
       "      <th>smokes</th>\n",
       "      <th>speaks</th>\n",
       "      <th>status</th>\n",
       "    </tr>\n",
       "  </thead>\n",
       "  <tbody>\n",
       "    <tr>\n",
       "      <th>0</th>\n",
       "      <td>22</td>\n",
       "      <td>a little extra</td>\n",
       "      <td>strictly anything</td>\n",
       "      <td>socially</td>\n",
       "      <td>never</td>\n",
       "      <td>working on college/university</td>\n",
       "      <td>about me:&lt;br /&gt;\\n&lt;br /&gt;\\ni would love to think...</td>\n",
       "      <td>currently working as an international agent fo...</td>\n",
       "      <td>making people laugh.&lt;br /&gt;\\nranting about a go...</td>\n",
       "      <td>the way i look. i am a six foot half asian, ha...</td>\n",
       "      <td>...</td>\n",
       "      <td>south san francisco, california</td>\n",
       "      <td>doesn&amp;rsquo;t have kids, but might want them</td>\n",
       "      <td>straight</td>\n",
       "      <td>likes dogs and likes cats</td>\n",
       "      <td>agnosticism and very serious about it</td>\n",
       "      <td>m</td>\n",
       "      <td>gemini</td>\n",
       "      <td>sometimes</td>\n",
       "      <td>english</td>\n",
       "      <td>single</td>\n",
       "    </tr>\n",
       "    <tr>\n",
       "      <th>1</th>\n",
       "      <td>35</td>\n",
       "      <td>average</td>\n",
       "      <td>mostly other</td>\n",
       "      <td>often</td>\n",
       "      <td>sometimes</td>\n",
       "      <td>working on space camp</td>\n",
       "      <td>i am a chef: this is what that means.&lt;br /&gt;\\n1...</td>\n",
       "      <td>dedicating everyday to being an unbelievable b...</td>\n",
       "      <td>being silly. having ridiculous amonts of fun w...</td>\n",
       "      <td>NaN</td>\n",
       "      <td>...</td>\n",
       "      <td>oakland, california</td>\n",
       "      <td>doesn&amp;rsquo;t have kids, but might want them</td>\n",
       "      <td>straight</td>\n",
       "      <td>likes dogs and likes cats</td>\n",
       "      <td>agnosticism but not too serious about it</td>\n",
       "      <td>m</td>\n",
       "      <td>cancer</td>\n",
       "      <td>no</td>\n",
       "      <td>english (fluently), spanish (poorly), french (...</td>\n",
       "      <td>single</td>\n",
       "    </tr>\n",
       "    <tr>\n",
       "      <th>2</th>\n",
       "      <td>38</td>\n",
       "      <td>thin</td>\n",
       "      <td>anything</td>\n",
       "      <td>socially</td>\n",
       "      <td>NaN</td>\n",
       "      <td>graduated from masters program</td>\n",
       "      <td>i'm not ashamed of much, but writing public te...</td>\n",
       "      <td>i make nerdy software for musicians, artists, ...</td>\n",
       "      <td>improvising in different contexts. alternating...</td>\n",
       "      <td>my large jaw and large glasses are the physica...</td>\n",
       "      <td>...</td>\n",
       "      <td>san francisco, california</td>\n",
       "      <td>NaN</td>\n",
       "      <td>straight</td>\n",
       "      <td>has cats</td>\n",
       "      <td>NaN</td>\n",
       "      <td>m</td>\n",
       "      <td>pisces but it doesn&amp;rsquo;t matter</td>\n",
       "      <td>no</td>\n",
       "      <td>english, french, c++</td>\n",
       "      <td>available</td>\n",
       "    </tr>\n",
       "    <tr>\n",
       "      <th>3</th>\n",
       "      <td>23</td>\n",
       "      <td>thin</td>\n",
       "      <td>vegetarian</td>\n",
       "      <td>socially</td>\n",
       "      <td>NaN</td>\n",
       "      <td>working on college/university</td>\n",
       "      <td>i work in a library and go to school. . .</td>\n",
       "      <td>reading things written by old dead people</td>\n",
       "      <td>playing synthesizers and organizing books acco...</td>\n",
       "      <td>socially awkward but i do my best</td>\n",
       "      <td>...</td>\n",
       "      <td>berkeley, california</td>\n",
       "      <td>doesn&amp;rsquo;t want kids</td>\n",
       "      <td>straight</td>\n",
       "      <td>likes cats</td>\n",
       "      <td>NaN</td>\n",
       "      <td>m</td>\n",
       "      <td>pisces</td>\n",
       "      <td>no</td>\n",
       "      <td>english, german (poorly)</td>\n",
       "      <td>single</td>\n",
       "    </tr>\n",
       "    <tr>\n",
       "      <th>4</th>\n",
       "      <td>29</td>\n",
       "      <td>athletic</td>\n",
       "      <td>NaN</td>\n",
       "      <td>socially</td>\n",
       "      <td>never</td>\n",
       "      <td>graduated from college/university</td>\n",
       "      <td>hey how's it going? currently vague on the pro...</td>\n",
       "      <td>work work work work + play</td>\n",
       "      <td>creating imagery to look at:&lt;br /&gt;\\nhttp://bag...</td>\n",
       "      <td>i smile a lot and my inquisitive nature</td>\n",
       "      <td>...</td>\n",
       "      <td>san francisco, california</td>\n",
       "      <td>NaN</td>\n",
       "      <td>straight</td>\n",
       "      <td>likes dogs and likes cats</td>\n",
       "      <td>NaN</td>\n",
       "      <td>m</td>\n",
       "      <td>aquarius</td>\n",
       "      <td>no</td>\n",
       "      <td>english</td>\n",
       "      <td>single</td>\n",
       "    </tr>\n",
       "  </tbody>\n",
       "</table>\n",
       "<p>5 rows × 31 columns</p>\n",
       "</div>"
      ],
      "text/plain": [
       "   age       body_type               diet    drinks      drugs  \\\n",
       "0   22  a little extra  strictly anything  socially      never   \n",
       "1   35         average       mostly other     often  sometimes   \n",
       "2   38            thin           anything  socially        NaN   \n",
       "3   23            thin         vegetarian  socially        NaN   \n",
       "4   29        athletic                NaN  socially      never   \n",
       "\n",
       "                           education  \\\n",
       "0      working on college/university   \n",
       "1              working on space camp   \n",
       "2     graduated from masters program   \n",
       "3      working on college/university   \n",
       "4  graduated from college/university   \n",
       "\n",
       "                                              essay0  \\\n",
       "0  about me:<br />\\n<br />\\ni would love to think...   \n",
       "1  i am a chef: this is what that means.<br />\\n1...   \n",
       "2  i'm not ashamed of much, but writing public te...   \n",
       "3          i work in a library and go to school. . .   \n",
       "4  hey how's it going? currently vague on the pro...   \n",
       "\n",
       "                                              essay1  \\\n",
       "0  currently working as an international agent fo...   \n",
       "1  dedicating everyday to being an unbelievable b...   \n",
       "2  i make nerdy software for musicians, artists, ...   \n",
       "3          reading things written by old dead people   \n",
       "4                         work work work work + play   \n",
       "\n",
       "                                              essay2  \\\n",
       "0  making people laugh.<br />\\nranting about a go...   \n",
       "1  being silly. having ridiculous amonts of fun w...   \n",
       "2  improvising in different contexts. alternating...   \n",
       "3  playing synthesizers and organizing books acco...   \n",
       "4  creating imagery to look at:<br />\\nhttp://bag...   \n",
       "\n",
       "                                              essay3  ...  \\\n",
       "0  the way i look. i am a six foot half asian, ha...  ...   \n",
       "1                                                NaN  ...   \n",
       "2  my large jaw and large glasses are the physica...  ...   \n",
       "3                  socially awkward but i do my best  ...   \n",
       "4            i smile a lot and my inquisitive nature  ...   \n",
       "\n",
       "                          location  \\\n",
       "0  south san francisco, california   \n",
       "1              oakland, california   \n",
       "2        san francisco, california   \n",
       "3             berkeley, california   \n",
       "4        san francisco, california   \n",
       "\n",
       "                                      offspring orientation  \\\n",
       "0  doesn&rsquo;t have kids, but might want them    straight   \n",
       "1  doesn&rsquo;t have kids, but might want them    straight   \n",
       "2                                           NaN    straight   \n",
       "3                       doesn&rsquo;t want kids    straight   \n",
       "4                                           NaN    straight   \n",
       "\n",
       "                        pets                                  religion sex  \\\n",
       "0  likes dogs and likes cats     agnosticism and very serious about it   m   \n",
       "1  likes dogs and likes cats  agnosticism but not too serious about it   m   \n",
       "2                   has cats                                       NaN   m   \n",
       "3                 likes cats                                       NaN   m   \n",
       "4  likes dogs and likes cats                                       NaN   m   \n",
       "\n",
       "                                 sign     smokes  \\\n",
       "0                              gemini  sometimes   \n",
       "1                              cancer         no   \n",
       "2  pisces but it doesn&rsquo;t matter         no   \n",
       "3                              pisces         no   \n",
       "4                            aquarius         no   \n",
       "\n",
       "                                              speaks     status  \n",
       "0                                            english     single  \n",
       "1  english (fluently), spanish (poorly), french (...     single  \n",
       "2                               english, french, c++  available  \n",
       "3                           english, german (poorly)     single  \n",
       "4                                            english     single  \n",
       "\n",
       "[5 rows x 31 columns]"
      ]
     },
     "execution_count": 2,
     "metadata": {},
     "output_type": "execute_result"
    }
   ],
   "source": [
    "profiles = pd.read_csv('/Users/sambshade/Desktop/OK-Cupid-Project/profiles.csv')\n",
    "profiles.head()"
   ]
  },
  {
   "cell_type": "code",
   "execution_count": 3,
   "id": "c2f46d6a",
   "metadata": {},
   "outputs": [
    {
     "name": "stdout",
     "output_type": "stream",
     "text": [
      "<class 'pandas.core.frame.DataFrame'>\n",
      "RangeIndex: 59946 entries, 0 to 59945\n",
      "Data columns (total 31 columns):\n",
      " #   Column       Non-Null Count  Dtype  \n",
      "---  ------       --------------  -----  \n",
      " 0   age          59946 non-null  int64  \n",
      " 1   body_type    54650 non-null  object \n",
      " 2   diet         35551 non-null  object \n",
      " 3   drinks       56961 non-null  object \n",
      " 4   drugs        45866 non-null  object \n",
      " 5   education    53318 non-null  object \n",
      " 6   essay0       54458 non-null  object \n",
      " 7   essay1       52374 non-null  object \n",
      " 8   essay2       50308 non-null  object \n",
      " 9   essay3       48470 non-null  object \n",
      " 10  essay4       49409 non-null  object \n",
      " 11  essay5       49096 non-null  object \n",
      " 12  essay6       46175 non-null  object \n",
      " 13  essay7       47495 non-null  object \n",
      " 14  essay8       40721 non-null  object \n",
      " 15  essay9       47343 non-null  object \n",
      " 16  ethnicity    54266 non-null  object \n",
      " 17  height       59943 non-null  float64\n",
      " 18  income       59946 non-null  int64  \n",
      " 19  job          51748 non-null  object \n",
      " 20  last_online  59946 non-null  object \n",
      " 21  location     59946 non-null  object \n",
      " 22  offspring    24385 non-null  object \n",
      " 23  orientation  59946 non-null  object \n",
      " 24  pets         40025 non-null  object \n",
      " 25  religion     39720 non-null  object \n",
      " 26  sex          59946 non-null  object \n",
      " 27  sign         48890 non-null  object \n",
      " 28  smokes       54434 non-null  object \n",
      " 29  speaks       59896 non-null  object \n",
      " 30  status       59946 non-null  object \n",
      "dtypes: float64(1), int64(2), object(28)\n",
      "memory usage: 14.2+ MB\n"
     ]
    }
   ],
   "source": [
    "profiles.info()"
   ]
  },
  {
   "cell_type": "code",
   "execution_count": 4,
   "id": "69054b1f",
   "metadata": {},
   "outputs": [
    {
     "data": {
      "text/html": [
       "<div>\n",
       "<style scoped>\n",
       "    .dataframe tbody tr th:only-of-type {\n",
       "        vertical-align: middle;\n",
       "    }\n",
       "\n",
       "    .dataframe tbody tr th {\n",
       "        vertical-align: top;\n",
       "    }\n",
       "\n",
       "    .dataframe thead th {\n",
       "        text-align: right;\n",
       "    }\n",
       "</style>\n",
       "<table border=\"1\" class=\"dataframe\">\n",
       "  <thead>\n",
       "    <tr style=\"text-align: right;\">\n",
       "      <th></th>\n",
       "      <th>age</th>\n",
       "      <th>height</th>\n",
       "      <th>income</th>\n",
       "    </tr>\n",
       "  </thead>\n",
       "  <tbody>\n",
       "    <tr>\n",
       "      <th>count</th>\n",
       "      <td>59946.000000</td>\n",
       "      <td>59943.000000</td>\n",
       "      <td>59946.000000</td>\n",
       "    </tr>\n",
       "    <tr>\n",
       "      <th>mean</th>\n",
       "      <td>32.340290</td>\n",
       "      <td>68.295281</td>\n",
       "      <td>20033.222534</td>\n",
       "    </tr>\n",
       "    <tr>\n",
       "      <th>std</th>\n",
       "      <td>9.452779</td>\n",
       "      <td>3.994803</td>\n",
       "      <td>97346.192104</td>\n",
       "    </tr>\n",
       "    <tr>\n",
       "      <th>min</th>\n",
       "      <td>18.000000</td>\n",
       "      <td>1.000000</td>\n",
       "      <td>-1.000000</td>\n",
       "    </tr>\n",
       "    <tr>\n",
       "      <th>25%</th>\n",
       "      <td>26.000000</td>\n",
       "      <td>66.000000</td>\n",
       "      <td>-1.000000</td>\n",
       "    </tr>\n",
       "    <tr>\n",
       "      <th>50%</th>\n",
       "      <td>30.000000</td>\n",
       "      <td>68.000000</td>\n",
       "      <td>-1.000000</td>\n",
       "    </tr>\n",
       "    <tr>\n",
       "      <th>75%</th>\n",
       "      <td>37.000000</td>\n",
       "      <td>71.000000</td>\n",
       "      <td>-1.000000</td>\n",
       "    </tr>\n",
       "    <tr>\n",
       "      <th>max</th>\n",
       "      <td>110.000000</td>\n",
       "      <td>95.000000</td>\n",
       "      <td>1000000.000000</td>\n",
       "    </tr>\n",
       "  </tbody>\n",
       "</table>\n",
       "</div>"
      ],
      "text/plain": [
       "                age        height          income\n",
       "count  59946.000000  59943.000000    59946.000000\n",
       "mean      32.340290     68.295281    20033.222534\n",
       "std        9.452779      3.994803    97346.192104\n",
       "min       18.000000      1.000000       -1.000000\n",
       "25%       26.000000     66.000000       -1.000000\n",
       "50%       30.000000     68.000000       -1.000000\n",
       "75%       37.000000     71.000000       -1.000000\n",
       "max      110.000000     95.000000  1000000.000000"
      ]
     },
     "execution_count": 4,
     "metadata": {},
     "output_type": "execute_result"
    }
   ],
   "source": [
    "profiles.describe()"
   ]
  },
  {
   "cell_type": "code",
   "execution_count": 5,
   "id": "a4007857",
   "metadata": {},
   "outputs": [
    {
     "data": {
      "text/plain": [
       "['age',\n",
       " 'body_type',\n",
       " 'diet',\n",
       " 'drinks',\n",
       " 'drugs',\n",
       " 'education',\n",
       " 'essay0',\n",
       " 'essay1',\n",
       " 'essay2',\n",
       " 'essay3',\n",
       " 'essay4',\n",
       " 'essay5',\n",
       " 'essay6',\n",
       " 'essay7',\n",
       " 'essay8',\n",
       " 'essay9',\n",
       " 'ethnicity',\n",
       " 'height',\n",
       " 'income',\n",
       " 'job',\n",
       " 'last_online',\n",
       " 'location',\n",
       " 'offspring',\n",
       " 'orientation',\n",
       " 'pets',\n",
       " 'religion',\n",
       " 'sex',\n",
       " 'sign',\n",
       " 'smokes',\n",
       " 'speaks',\n",
       " 'status']"
      ]
     },
     "execution_count": 5,
     "metadata": {},
     "output_type": "execute_result"
    }
   ],
   "source": [
    "list(profiles.columns)"
   ]
  },
  {
   "cell_type": "markdown",
   "id": "41f673ea",
   "metadata": {},
   "source": [
    "## Distribution Plots\n",
    "\n",
    "Several plots were developed below to visually see the distribution of several of the categorical and continuous variables, such as age, height, income, etc. These plots visualize how these factors differ amongst male and female members. "
   ]
  },
  {
   "cell_type": "markdown",
   "id": "a0e5c585",
   "metadata": {},
   "source": [
    "### Distribution of Sex\n",
    "\n",
    "The distribution of male vs. female members was examined. The distribution plot indicates that there are approximately 35,000 males in the dating app and around 25,000 females. "
   ]
  },
  {
   "cell_type": "code",
   "execution_count": 6,
   "id": "e25aa0e2",
   "metadata": {
    "scrolled": true
   },
   "outputs": [
    {
     "data": {
      "text/plain": [
       "Text(0.5, 1.0, 'Distribution of Age in Dating Profile Members')"
      ]
     },
     "execution_count": 6,
     "metadata": {},
     "output_type": "execute_result"
    },
    {
     "data": {
      "image/png": "[encoded data removed]",
      "text/plain": [
       "<Figure size 720x360 with 1 Axes>"
      ]
     },
     "metadata": {
      "needs_background": "light"
     },
     "output_type": "display_data"
    }
   ],
   "source": [
    "sns.displot(data=profiles, x='sex', kind='hist', hue='sex', binwidth=2, height=5, aspect=2, legend=False, palette='mako')\n",
    "plt.xlabel('Sex')\n",
    "plt.ylabel('Dating Profile Members')\n",
    "plt.title('Distribution of Age in Dating Profile Members')"
   ]
  },
  {
   "cell_type": "markdown",
   "id": "257e3d34",
   "metadata": {},
   "source": [
    "### Distribution of Age\n",
    "\n",
    "The distribution of age was examined against sex. The majority of the program members are in their 20's and 30's. The distribution of age did not drastically change among sex. "
   ]
  },
  {
   "cell_type": "code",
   "execution_count": 7,
   "id": "fa4890af",
   "metadata": {},
   "outputs": [
    {
     "data": {
      "text/plain": [
       "Text(0.5, 1.0, 'Distribution of Age based on Sex')"
      ]
     },
     "execution_count": 7,
     "metadata": {},
     "output_type": "execute_result"
    },
    {
     "data": {
      "image/png": "[encoded data removed]",
      "text/plain": [
       "<Figure size 765.625x360 with 1 Axes>"
      ]
     },
     "metadata": {
      "needs_background": "light"
     },
     "output_type": "display_data"
    }
   ],
   "source": [
    "sns.displot(data=profiles, x='age', hue='sex', kind='hist', binwidth=2, multiple='stack', height=5, aspect=2, palette='mako')\n",
    "plt.xlabel('Age')\n",
    "plt.ylabel('Dating Profile Members')\n",
    "plt.title('Distribution of Age based on Sex')"
   ]
  },
  {
   "cell_type": "markdown",
   "id": "0107b8ad",
   "metadata": {},
   "source": [
    "### Distribution of Height\n",
    "\n",
    "The distribution of height was examined against sex. The majority of the program members did not indicate information regarding income as the distribution plots show a majority of the participants are near $0 income. The distribution of income does not show much difference amongst sex. "
   ]
  },
  {
   "cell_type": "code",
   "execution_count": 8,
   "id": "5373749f",
   "metadata": {},
   "outputs": [
    {
     "data": {
      "text/plain": [
       "Text(0.5, 1.0, 'Distribution of Height based on Sex')"
      ]
     },
     "execution_count": 8,
     "metadata": {},
     "output_type": "execute_result"
    },
    {
     "data": {
      "image/png": "[encoded data removed]",
      "text/plain": [
       "<Figure size 765.625x360 with 1 Axes>"
      ]
     },
     "metadata": {
      "needs_background": "light"
     },
     "output_type": "display_data"
    }
   ],
   "source": [
    "sns.displot(data=profiles, x='height', hue='sex', kind='hist', binwidth=5, multiple='stack', height=5, aspect=2,palette='mako')\n",
    "plt.xlabel('Height')\n",
    "plt.ylabel('Dating Profile Members')\n",
    "plt.title('Distribution of Height based on Sex')"
   ]
  },
  {
   "cell_type": "markdown",
   "id": "e9086014",
   "metadata": {},
   "source": [
    "### Distribution of Income\n",
    "\n",
    "The distribution of income was examined against sex. The majority of the program members did not indicate information regarding income as the distribution plots show a majority of the participants are near $0 income. The distribution of income does not show much difference amongst sex. "
   ]
  },
  {
   "cell_type": "code",
   "execution_count": 9,
   "id": "97646740",
   "metadata": {
    "scrolled": true
   },
   "outputs": [
    {
     "data": {
      "text/plain": [
       "Text(0.5, 1.0, 'Distribution of Income based on Sex')"
      ]
     },
     "execution_count": 9,
     "metadata": {},
     "output_type": "execute_result"
    },
    {
     "data": {
      "image/png": "[encoded data removed]",
      "text/plain": [
       "<Figure size 765.625x360 with 1 Axes>"
      ]
     },
     "metadata": {
      "needs_background": "light"
     },
     "output_type": "display_data"
    }
   ],
   "source": [
    "sns.displot(data=profiles, x='income', hue='sex', kind='hist', binwidth=100000, multiple='stack',height=5,aspect=2, palette='mako')\n",
    "plt.xlabel('Income x 10^6')\n",
    "plt.ylabel('Dating Profile Members')\n",
    "plt.title('Distribution of Income based on Sex')"
   ]
  },
  {
   "cell_type": "markdown",
   "id": "4e38d088",
   "metadata": {},
   "source": [
    "### Distribution of Body Type\n",
    "\n",
    "The distribution of body types was examined against sex. The distribution of these body types were heavily sex dependent. Categories like: athletic, fit, jacked, have more male representation, whereas: curvy and full-figured have more female representation. Athletic, fit, and jacked, tend to have a more masculine meaning and curvy and full-figured tend to be more feminine. "
   ]
  },
  {
   "cell_type": "code",
   "execution_count": 10,
   "id": "576d9aba",
   "metadata": {},
   "outputs": [
    {
     "data": {
      "text/plain": [
       "Text(0.5, 0, 'Dating Profile Members')"
      ]
     },
     "execution_count": 10,
     "metadata": {},
     "output_type": "execute_result"
    },
    {
     "data": {
      "image/png": "[encoded data removed]",
      "text/plain": [
       "<Figure size 576x360 with 1 Axes>"
      ]
     },
     "metadata": {
      "needs_background": "light"
     },
     "output_type": "display_data"
    }
   ],
   "source": [
    "plt.figure(figsize=(8,5))\n",
    "sns.countplot(data=profiles, y='body_type', hue='sex', palette='mako')\n",
    "plt.ylabel('Body Type')\n",
    "plt.xlabel('Dating Profile Members')"
   ]
  },
  {
   "cell_type": "markdown",
   "id": "80b19aab",
   "metadata": {},
   "source": [
    "### Distribution of Diet\n",
    "\n",
    "The distribution of diets was examined against sex. The majority of the program members indicated that they have no preference for diet and will eat mostly anything. "
   ]
  },
  {
   "cell_type": "code",
   "execution_count": 11,
   "id": "1c9f977a",
   "metadata": {},
   "outputs": [
    {
     "data": {
      "text/plain": [
       "Text(0.5, 0, 'Dating Profile Members')"
      ]
     },
     "execution_count": 11,
     "metadata": {},
     "output_type": "execute_result"
    },
    {
     "data": {
      "image/png": "[encoded data removed]",
      "text/plain": [
       "<Figure size 720x432 with 1 Axes>"
      ]
     },
     "metadata": {
      "needs_background": "light"
     },
     "output_type": "display_data"
    }
   ],
   "source": [
    "plt.figure(figsize=(10,6))\n",
    "sns.countplot(data=profiles, y='diet', hue='sex', palette='mako')\n",
    "plt.ylabel('Diet Type')\n",
    "plt.xlabel('Dating Profile Members')"
   ]
  },
  {
   "cell_type": "markdown",
   "id": "2416a250",
   "metadata": {},
   "source": [
    "### Distribution of Alcohol Use\n",
    "\n",
    "The distribution of alchol use use was examined against sex. The majority of the program members indicated that they only drink socially."
   ]
  },
  {
   "cell_type": "code",
   "execution_count": 12,
   "id": "1a18c37d",
   "metadata": {},
   "outputs": [
    {
     "data": {
      "text/plain": [
       "Text(0.5, 0, 'Dating Profile Members')"
      ]
     },
     "execution_count": 12,
     "metadata": {},
     "output_type": "execute_result"
    },
    {
     "data": {
      "image/png": "[encoded data removed]",
      "text/plain": [
       "<Figure size 576x576 with 1 Axes>"
      ]
     },
     "metadata": {
      "needs_background": "light"
     },
     "output_type": "display_data"
    }
   ],
   "source": [
    "plt.figure(figsize=(8,8))\n",
    "sns.countplot(data=profiles, y='drinks', hue='sex', palette='mako')\n",
    "plt.ylabel('Alcohol Use')\n",
    "plt.xlabel('Dating Profile Members')"
   ]
  },
  {
   "cell_type": "markdown",
   "id": "1f642d17",
   "metadata": {},
   "source": [
    "### Distribution of Drug Use\n",
    "\n",
    "The distribution of drug use was examined against sex. The majority of the program members indicated that they would never use drugs. "
   ]
  },
  {
   "cell_type": "code",
   "execution_count": 13,
   "id": "bfbe5b89",
   "metadata": {},
   "outputs": [
    {
     "data": {
      "text/plain": [
       "Text(0.5, 0, 'Dating Profile Members')"
      ]
     },
     "execution_count": 13,
     "metadata": {},
     "output_type": "execute_result"
    },
    {
     "data": {
      "image/png": "[encoded data removed]",
      "text/plain": [
       "<Figure size 576x360 with 1 Axes>"
      ]
     },
     "metadata": {
      "needs_background": "light"
     },
     "output_type": "display_data"
    }
   ],
   "source": [
    "plt.figure(figsize=(8,5))\n",
    "sns.countplot(data=profiles, y='drugs', hue='sex', palette='mako')\n",
    "plt.ylabel('Drug Use')\n",
    "plt.xlabel('Dating Profile Members')"
   ]
  },
  {
   "cell_type": "markdown",
   "id": "28bd0e90",
   "metadata": {},
   "source": [
    "### Distribution of Education\n",
    "\n",
    "The distribution of education level was examined against sex. A majority of the program members have graduated from college/university. There are several details that stood out in this section, such as the amount of members who were involved in Space Camp. "
   ]
  },
  {
   "cell_type": "code",
   "execution_count": 14,
   "id": "b118d8d9",
   "metadata": {},
   "outputs": [
    {
     "data": {
      "text/plain": [
       "Text(0.5, 0, 'Dating Profile Members')"
      ]
     },
     "execution_count": 14,
     "metadata": {},
     "output_type": "execute_result"
    },
    {
     "data": {
      "image/png": "[encoded data removed]",
      "text/plain": [
       "<Figure size 720x648 with 1 Axes>"
      ]
     },
     "metadata": {
      "needs_background": "light"
     },
     "output_type": "display_data"
    }
   ],
   "source": [
    "plt.figure(figsize=(10,9))\n",
    "sns.countplot(data=profiles, y='education', hue='sex',palette='mako')\n",
    "plt.ylabel('Education')\n",
    "plt.xlabel('Dating Profile Members')"
   ]
  },
  {
   "cell_type": "markdown",
   "id": "78fe0d2a",
   "metadata": {},
   "source": [
    "### Examining Ethnicity\n",
    "\n",
    "Distribution of Ethnicity is hard to analyze with 217 unique selections. This process was examined to understand the different ethnicity options that were available for the members of the program to select. "
   ]
  },
  {
   "cell_type": "code",
   "execution_count": 15,
   "id": "c9ef7031",
   "metadata": {},
   "outputs": [
    {
     "data": {
      "text/plain": [
       "217"
      ]
     },
     "execution_count": 15,
     "metadata": {},
     "output_type": "execute_result"
    }
   ],
   "source": [
    "profiles.ethnicity.nunique()"
   ]
  },
  {
   "cell_type": "code",
   "execution_count": 16,
   "id": "e3a410de",
   "metadata": {},
   "outputs": [
    {
     "data": {
      "text/plain": [
       "array(['asian, white', 'white', nan, 'asian, black, other',\n",
       "       'white, other', 'hispanic / latin, white', 'hispanic / latin',\n",
       "       'pacific islander, white', 'asian', 'black, white',\n",
       "       'pacific islander', 'asian, native american',\n",
       "       'asian, pacific islander', 'black, native american, white',\n",
       "       'middle eastern, other', 'native american, white', 'indian',\n",
       "       'black', 'black, native american, hispanic / latin, other',\n",
       "       'black, native american, hispanic / latin',\n",
       "       'asian, black, pacific islander',\n",
       "       'asian, middle eastern, black, native american, indian, pacific islander, hispanic / latin, white, other',\n",
       "       'other', 'hispanic / latin, other', 'asian, black',\n",
       "       'middle eastern, white', 'native american, white, other',\n",
       "       'black, native american', 'black, white, other',\n",
       "       'hispanic / latin, white, other', 'middle eastern', 'black, other',\n",
       "       'native american, hispanic / latin, white', 'black, indian',\n",
       "       'indian, white, other', 'middle eastern, indian, other',\n",
       "       'black, native american, hispanic / latin, white, other',\n",
       "       'pacific islander, hispanic / latin',\n",
       "       'black, hispanic / latin, white', 'native american',\n",
       "       'indian, white', 'asian, white, other', 'black, hispanic / latin',\n",
       "       'asian, hispanic / latin, white',\n",
       "       'middle eastern, hispanic / latin',\n",
       "       'asian, black, native american, pacific islander, white',\n",
       "       'middle eastern, indian', 'asian, indian',\n",
       "       'pacific islander, other', 'black, native american, white, other',\n",
       "       'black, pacific islander',\n",
       "       'middle eastern, native american, white',\n",
       "       'asian, native american, white, other',\n",
       "       'pacific islander, hispanic / latin, white', 'indian, other',\n",
       "       'asian, pacific islander, other', 'black, hispanic / latin, other',\n",
       "       'asian, black, native american',\n",
       "       'black, native american, hispanic / latin, white',\n",
       "       'native american, hispanic / latin', 'indian, hispanic / latin',\n",
       "       'native american, pacific islander',\n",
       "       'asian, black, native american, hispanic / latin, white',\n",
       "       'asian, black, white',\n",
       "       'asian, black, native american, pacific islander, other',\n",
       "       'middle eastern, hispanic / latin, white',\n",
       "       'asian, pacific islander, white',\n",
       "       'asian, native american, hispanic / latin, white, other',\n",
       "       'asian, hispanic / latin', 'asian, pacific islander, white, other',\n",
       "       'middle eastern, white, other',\n",
       "       'asian, pacific islander, hispanic / latin',\n",
       "       'black, native american, indian, other',\n",
       "       'native american, hispanic / latin, white, other',\n",
       "       'black, native american, other', 'asian, other',\n",
       "       'middle eastern, hispanic / latin, other',\n",
       "       'pacific islander, hispanic / latin, white, other',\n",
       "       'asian, black, hispanic / latin',\n",
       "       'asian, pacific islander, hispanic / latin, white',\n",
       "       'asian, black, native american, white',\n",
       "       'asian, middle eastern, white, other',\n",
       "       'native american, pacific islander, hispanic / latin',\n",
       "       'asian, native american, white',\n",
       "       'native american, pacific islander, hispanic / latin, white, other',\n",
       "       'indian, pacific islander', 'asian, middle eastern, black',\n",
       "       'asian, middle eastern, indian', 'asian, middle eastern, white',\n",
       "       'pacific islander, white, other',\n",
       "       'black, pacific islander, hispanic / latin',\n",
       "       'asian, middle eastern', 'asian, hispanic / latin, other',\n",
       "       'middle eastern, black, native american, indian, white, other',\n",
       "       'middle eastern, pacific islander, other', 'middle eastern, black',\n",
       "       'asian, indian, pacific islander',\n",
       "       'black, native american, pacific islander',\n",
       "       'native american, indian',\n",
       "       'asian, middle eastern, black, native american, indian, pacific islander, hispanic / latin, white',\n",
       "       'black, indian, other',\n",
       "       'asian, middle eastern, indian, hispanic / latin, white, other',\n",
       "       'middle eastern, black, white',\n",
       "       'asian, hispanic / latin, white, other',\n",
       "       'native american, hispanic / latin, other',\n",
       "       'middle eastern, black, pacific islander, white',\n",
       "       'asian, black, native american, hispanic / latin',\n",
       "       'native american, other', 'black, indian, white',\n",
       "       'asian, native american, hispanic / latin, white',\n",
       "       'black, native american, indian, white',\n",
       "       'middle eastern, black, indian, pacific islander, hispanic / latin, white',\n",
       "       'middle eastern, hispanic / latin, white, other',\n",
       "       'asian, black, native american, other',\n",
       "       'native american, pacific islander, hispanic / latin, white',\n",
       "       'asian, indian, other',\n",
       "       'middle eastern, native american, hispanic / latin, white, other',\n",
       "       'asian, middle eastern, black, pacific islander, hispanic / latin, white',\n",
       "       'black, native american, pacific islander, hispanic / latin, white, other',\n",
       "       'asian, middle eastern, native american, hispanic / latin, white',\n",
       "       'asian, middle eastern, black, native american, pacific islander, hispanic / latin, white, other',\n",
       "       'asian, indian, white',\n",
       "       'native american, pacific islander, white, other',\n",
       "       'middle eastern, black, native american, indian, pacific islander, hispanic / latin, white',\n",
       "       'asian, middle eastern, other', 'middle eastern, pacific islander',\n",
       "       'asian, black, hispanic / latin, other',\n",
       "       'asian, middle eastern, black, native american, hispanic / latin, white',\n",
       "       'middle eastern, black, hispanic / latin',\n",
       "       'black, pacific islander, white',\n",
       "       'asian, middle eastern, black, native american, indian, pacific islander, hispanic / latin, other',\n",
       "       'middle eastern, black, native american, indian, hispanic / latin, white',\n",
       "       'asian, pacific islander, hispanic / latin, white, other',\n",
       "       'middle eastern, indian, white', 'asian, indian, white, other',\n",
       "       'middle eastern, black, native american, white, other',\n",
       "       'black, native american, pacific islander, other',\n",
       "       'middle eastern, black, native american, white',\n",
       "       'asian, indian, pacific islander, other',\n",
       "       'asian, black, native american, white, other',\n",
       "       'black, indian, hispanic / latin, white',\n",
       "       'asian, middle eastern, black, native american, indian, pacific islander, white',\n",
       "       'asian, black, pacific islander, hispanic / latin',\n",
       "       'middle eastern, black, native american, indian, pacific islander, hispanic / latin, white, other',\n",
       "       'asian, black, native american, indian',\n",
       "       'asian, black, indian, hispanic / latin, other',\n",
       "       'indian, hispanic / latin, other',\n",
       "       'asian, indian, hispanic / latin',\n",
       "       'asian, native american, pacific islander, white, other',\n",
       "       'asian, black, native american, indian, hispanic / latin, white, other',\n",
       "       'asian, indian, hispanic / latin, white',\n",
       "       'pacific islander, hispanic / latin, other',\n",
       "       'asian, indian, pacific islander, hispanic / latin, white, other',\n",
       "       'indian, hispanic / latin, white',\n",
       "       'asian, native american, pacific islander, hispanic / latin, white, other',\n",
       "       'asian, pacific islander, hispanic / latin, other',\n",
       "       'asian, black, hispanic / latin, white, other',\n",
       "       'black, indian, hispanic / latin',\n",
       "       'middle eastern, black, native american, hispanic / latin, white',\n",
       "       'black, pacific islander, other',\n",
       "       'black, native american, pacific islander, white',\n",
       "       'asian, black, native american, pacific islander',\n",
       "       'asian, indian, hispanic / latin, other',\n",
       "       'middle eastern, native american',\n",
       "       'middle eastern, native american, hispanic / latin',\n",
       "       'black, hispanic / latin, white, other',\n",
       "       'asian, native american, pacific islander, hispanic / latin, white',\n",
       "       'asian, native american, hispanic / latin',\n",
       "       'black, native american, indian, hispanic / latin, white, other',\n",
       "       'asian, middle eastern, hispanic / latin, white',\n",
       "       'black, native american, pacific islander, white, other',\n",
       "       'native american, indian, pacific islander, hispanic / latin',\n",
       "       'black, indian, white, other',\n",
       "       'asian, middle eastern, native american, pacific islander, hispanic / latin, white, other',\n",
       "       'native american, pacific islander, white',\n",
       "       'middle eastern, indian, white, other',\n",
       "       'asian, black, white, other',\n",
       "       'middle eastern, native american, hispanic / latin, white',\n",
       "       'indian, hispanic / latin, white, other',\n",
       "       'asian, middle eastern, black, pacific islander',\n",
       "       'asian, middle eastern, black, indian, pacific islander, hispanic / latin, white',\n",
       "       'asian, middle eastern, indian, other',\n",
       "       'asian, middle eastern, black, white, other',\n",
       "       'black, native american, pacific islander, hispanic / latin, white',\n",
       "       'black, native american, indian, pacific islander, hispanic / latin',\n",
       "       'asian, black, pacific islander, white',\n",
       "       'middle eastern, pacific islander, hispanic / latin',\n",
       "       'black, native american, indian, white, other',\n",
       "       'asian, black, hispanic / latin, white',\n",
       "       'asian, black, native american, indian, pacific islander, white',\n",
       "       'asian, black, native american, indian, pacific islander, hispanic / latin',\n",
       "       'asian, middle eastern, hispanic / latin, white, other',\n",
       "       'middle eastern, black, native american, indian',\n",
       "       'asian, native american, pacific islander',\n",
       "       'asian, black, native american, pacific islander, white, other',\n",
       "       'asian, middle eastern, hispanic / latin',\n",
       "       'asian, black, pacific islander, other',\n",
       "       'asian, native american, indian, pacific islander, hispanic / latin, white',\n",
       "       'middle eastern, native american, white, other',\n",
       "       'asian, native american, hispanic / latin, other',\n",
       "       'native american, indian, white',\n",
       "       'black, native american, pacific islander, hispanic / latin',\n",
       "       'asian, native american, pacific islander, white',\n",
       "       'black, native american, indian',\n",
       "       'indian, pacific islander, hispanic / latin, white',\n",
       "       'asian, middle eastern, black, native american, indian, pacific islander, hispanic / latin',\n",
       "       'asian, middle eastern, indian, hispanic / latin',\n",
       "       'asian, middle eastern, native american, pacific islander, other',\n",
       "       'black, native american, indian, pacific islander',\n",
       "       'asian, middle eastern, native american, pacific islander, white, other',\n",
       "       'asian, native american, other', 'middle eastern, black, other',\n",
       "       'asian, black, pacific islander, hispanic / latin, white',\n",
       "       'asian, middle eastern, native american, indian, pacific islander, hispanic / latin, white',\n",
       "       'asian, native american, indian, pacific islander, hispanic / latin, white, other',\n",
       "       'asian, middle eastern, black, pacific islander, hispanic / latin',\n",
       "       'asian, black, pacific islander, white, other',\n",
       "       'asian, black, indian'], dtype=object)"
      ]
     },
     "execution_count": 16,
     "metadata": {},
     "output_type": "execute_result"
    }
   ],
   "source": [
    "profiles.ethnicity.unique()"
   ]
  },
  {
   "cell_type": "markdown",
   "id": "a6507b59",
   "metadata": {},
   "source": [
    "### Distribution of Jobs\n",
    "\n",
    "The distribution of jobs was examined against sex. The distribution of jobs was fairly dependendent on sex as transportation, computer/hardware/software, and science/tech/engineering were more prevelant in male users while education/academia, clerical/administrative, and medicine/health were better represented by the female users. "
   ]
  },
  {
   "cell_type": "code",
   "execution_count": 17,
   "id": "0b8e6607",
   "metadata": {},
   "outputs": [
    {
     "data": {
      "text/plain": [
       "<AxesSubplot:xlabel='count', ylabel='job'>"
      ]
     },
     "execution_count": 17,
     "metadata": {},
     "output_type": "execute_result"
    },
    {
     "data": {
      "image/png": "[encoded data removed]",
      "text/plain": [
       "<Figure size 720x648 with 1 Axes>"
      ]
     },
     "metadata": {
      "needs_background": "light"
     },
     "output_type": "display_data"
    }
   ],
   "source": [
    "plt.figure(figsize=(10,9))\n",
    "sns.countplot(data=profiles, y='job', hue='sex', palette='mako')"
   ]
  },
  {
   "cell_type": "markdown",
   "id": "2b2ba3b4",
   "metadata": {},
   "source": [
    "### Distribution of Religion\n",
    "The distribution of religion was examined against sex. The options for religion included both the user’s religious beliefs plus their preference of religion (a gauge for how serious the user is about their religion). The religion column provided 45 unique options. The first word of these options were targeted to better understand the users religious beliefs without the preference. The new options for religion were detailed as 'religion_updated'. The religous beliefs of the user did not vary much depending on the sex of the user. "
   ]
  },
  {
   "cell_type": "code",
   "execution_count": 18,
   "id": "7896a33a",
   "metadata": {},
   "outputs": [
    {
     "data": {
      "text/plain": [
       "45"
      ]
     },
     "execution_count": 18,
     "metadata": {},
     "output_type": "execute_result"
    }
   ],
   "source": [
    "profiles['religion'].nunique()"
   ]
  },
  {
   "cell_type": "code",
   "execution_count": 19,
   "id": "e67d120a",
   "metadata": {},
   "outputs": [
    {
     "data": {
      "text/plain": [
       "array(['agnosticism and very serious about it',\n",
       "       'agnosticism but not too serious about it', nan, 'atheism',\n",
       "       'christianity', 'christianity but not too serious about it',\n",
       "       'atheism and laughing about it',\n",
       "       'christianity and very serious about it', 'other', 'catholicism',\n",
       "       'catholicism but not too serious about it',\n",
       "       'catholicism and somewhat serious about it',\n",
       "       'agnosticism and somewhat serious about it',\n",
       "       'catholicism and laughing about it',\n",
       "       'agnosticism and laughing about it', 'agnosticism',\n",
       "       'atheism and somewhat serious about it',\n",
       "       'buddhism but not too serious about it',\n",
       "       'other but not too serious about it', 'buddhism',\n",
       "       'other and laughing about it',\n",
       "       'judaism but not too serious about it',\n",
       "       'buddhism and laughing about it',\n",
       "       'other and somewhat serious about it',\n",
       "       'other and very serious about it',\n",
       "       'hinduism but not too serious about it',\n",
       "       'atheism but not too serious about it', 'judaism',\n",
       "       'christianity and somewhat serious about it',\n",
       "       'hinduism and very serious about it',\n",
       "       'atheism and very serious about it',\n",
       "       'judaism and laughing about it',\n",
       "       'christianity and laughing about it',\n",
       "       'hinduism and laughing about it',\n",
       "       'buddhism and somewhat serious about it',\n",
       "       'islam and very serious about it', 'islam', 'hinduism',\n",
       "       'judaism and somewhat serious about it',\n",
       "       'catholicism and very serious about it',\n",
       "       'judaism and very serious about it',\n",
       "       'hinduism and somewhat serious about it',\n",
       "       'islam but not too serious about it',\n",
       "       'buddhism and very serious about it',\n",
       "       'islam and laughing about it',\n",
       "       'islam and somewhat serious about it'], dtype=object)"
      ]
     },
     "execution_count": 19,
     "metadata": {},
     "output_type": "execute_result"
    }
   ],
   "source": [
    "profiles['religion'].unique()"
   ]
  },
  {
   "cell_type": "code",
   "execution_count": 20,
   "id": "34575d57",
   "metadata": {},
   "outputs": [
    {
     "data": {
      "text/plain": [
       "<AxesSubplot:xlabel='count', ylabel='religion_updated'>"
      ]
     },
     "execution_count": 20,
     "metadata": {},
     "output_type": "execute_result"
    },
    {
     "data": {
      "image/png": "[encoded data removed]",
      "text/plain": [
       "<Figure size 720x648 with 1 Axes>"
      ]
     },
     "metadata": {
      "needs_background": "light"
     },
     "output_type": "display_data"
    }
   ],
   "source": [
    "plt.figure(figsize=(10,9))\n",
    "profiles['religion_updated'] = profiles.religion.str.split().str.get(0)\n",
    "sns.countplot(data=profiles, y='religion_updated', hue='sex',palette='mako')"
   ]
  },
  {
   "cell_type": "markdown",
   "id": "2410c3d9",
   "metadata": {},
   "source": [
    "### Distribution of Offspring\n",
    "The distribution of offspring and the users personal desire to have children was examined against sex. Categories that mostly feature the desire to not have kids tend to have more male representation; however, the numbers for each category are well-represented by both sexes. "
   ]
  },
  {
   "cell_type": "code",
   "execution_count": 21,
   "id": "26d9d1e5",
   "metadata": {},
   "outputs": [
    {
     "data": {
      "text/plain": [
       "<AxesSubplot:xlabel='count', ylabel='offspring'>"
      ]
     },
     "execution_count": 21,
     "metadata": {},
     "output_type": "execute_result"
    },
    {
     "data": {
      "image/png": "[encoded data removed]",
      "text/plain": [
       "<Figure size 720x648 with 1 Axes>"
      ]
     },
     "metadata": {
      "needs_background": "light"
     },
     "output_type": "display_data"
    }
   ],
   "source": [
    "plt.figure(figsize=(10,9))\n",
    "sns.countplot(data=profiles, y='offspring', hue='sex', palette='mako')"
   ]
  },
  {
   "cell_type": "markdown",
   "id": "68ed23b0",
   "metadata": {},
   "source": [
    "### Distribution of Sexual Orientation\n",
    "The distribution of the users sexual orientation was examined against sex. A great majority of the users, male and female, indicated their sexual orientation was 'straight'. Bisexual orientation is more heavily distributed towards female users. "
   ]
  },
  {
   "cell_type": "code",
   "execution_count": 22,
   "id": "63587b8a",
   "metadata": {},
   "outputs": [
    {
     "data": {
      "text/plain": [
       "<AxesSubplot:xlabel='count', ylabel='orientation'>"
      ]
     },
     "execution_count": 22,
     "metadata": {},
     "output_type": "execute_result"
    },
    {
     "data": {
      "image/png": "[encoded data removed]",
      "text/plain": [
       "<Figure size 720x648 with 1 Axes>"
      ]
     },
     "metadata": {
      "needs_background": "light"
     },
     "output_type": "display_data"
    }
   ],
   "source": [
    "plt.figure(figsize=(10,9))\n",
    "sns.countplot(data=profiles, y='orientation', hue='sex',palette='mako')"
   ]
  },
  {
   "cell_type": "markdown",
   "id": "533cc94c",
   "metadata": {},
   "source": [
    "### Distribution of Pets\n",
    "The distribution of the users opinion towards pets was examined against sex. A majority of the program members enjoy some type of pets; however, female users have more preference towards owning cats (despite having equal representation in liking cats) whereas male users have more preference towards liking dogs."
   ]
  },
  {
   "cell_type": "code",
   "execution_count": 23,
   "id": "4294557a",
   "metadata": {},
   "outputs": [
    {
     "data": {
      "text/plain": [
       "<AxesSubplot:xlabel='count', ylabel='pets'>"
      ]
     },
     "execution_count": 23,
     "metadata": {},
     "output_type": "execute_result"
    },
    {
     "data": {
      "image/png": "[encoded data removed]",
      "text/plain": [
       "<Figure size 720x648 with 1 Axes>"
      ]
     },
     "metadata": {
      "needs_background": "light"
     },
     "output_type": "display_data"
    }
   ],
   "source": [
    "plt.figure(figsize=(10,9))\n",
    "sns.countplot(data=profiles, y='pets', hue='sex',palette='mako')"
   ]
  },
  {
   "cell_type": "markdown",
   "id": "3bb3a570",
   "metadata": {},
   "source": [
    "### Distribution of Astrological Signs\n",
    "\n",
    "The distribution of astrological signs was examined against sex. The options for astrological signs included both the user’s personal sign plus their preference for astrological signs (a gauge for how serious the user is about astrology and their personal signs). The astrological sign column provided 48 unique options. The first word of these options were targeted to better understand the user’s personal astrological signs without the preference. The new options for astrological signs are detailed as `signs_updated`. The astrological signs of the user did not vary much depending on the sex of the user, as predicted since this depends on the birthday of the user."
   ]
  },
  {
   "cell_type": "code",
   "execution_count": 24,
   "id": "9aff3e4b",
   "metadata": {},
   "outputs": [
    {
     "data": {
      "text/plain": [
       "48"
      ]
     },
     "execution_count": 24,
     "metadata": {},
     "output_type": "execute_result"
    }
   ],
   "source": [
    "profiles['sign'].nunique()"
   ]
  },
  {
   "cell_type": "code",
   "execution_count": 25,
   "id": "dc48bfbe",
   "metadata": {},
   "outputs": [
    {
     "data": {
      "text/plain": [
       "array(['gemini', 'cancer', 'pisces but it doesn&rsquo;t matter', 'pisces',\n",
       "       'aquarius', 'taurus', 'virgo', 'sagittarius',\n",
       "       'gemini but it doesn&rsquo;t matter',\n",
       "       'cancer but it doesn&rsquo;t matter',\n",
       "       'leo but it doesn&rsquo;t matter', nan,\n",
       "       'aquarius but it doesn&rsquo;t matter',\n",
       "       'aries and it&rsquo;s fun to think about',\n",
       "       'libra but it doesn&rsquo;t matter',\n",
       "       'pisces and it&rsquo;s fun to think about', 'libra',\n",
       "       'taurus but it doesn&rsquo;t matter',\n",
       "       'sagittarius but it doesn&rsquo;t matter',\n",
       "       'scorpio and it matters a lot',\n",
       "       'gemini and it&rsquo;s fun to think about',\n",
       "       'leo and it&rsquo;s fun to think about',\n",
       "       'cancer and it&rsquo;s fun to think about',\n",
       "       'libra and it&rsquo;s fun to think about',\n",
       "       'aquarius and it&rsquo;s fun to think about',\n",
       "       'virgo but it doesn&rsquo;t matter',\n",
       "       'scorpio and it&rsquo;s fun to think about',\n",
       "       'capricorn but it doesn&rsquo;t matter', 'scorpio',\n",
       "       'capricorn and it&rsquo;s fun to think about', 'leo',\n",
       "       'aries but it doesn&rsquo;t matter', 'aries',\n",
       "       'scorpio but it doesn&rsquo;t matter',\n",
       "       'sagittarius and it&rsquo;s fun to think about',\n",
       "       'libra and it matters a lot',\n",
       "       'taurus and it&rsquo;s fun to think about',\n",
       "       'leo and it matters a lot',\n",
       "       'virgo and it&rsquo;s fun to think about',\n",
       "       'cancer and it matters a lot', 'capricorn',\n",
       "       'pisces and it matters a lot', 'aries and it matters a lot',\n",
       "       'capricorn and it matters a lot', 'aquarius and it matters a lot',\n",
       "       'sagittarius and it matters a lot', 'gemini and it matters a lot',\n",
       "       'taurus and it matters a lot', 'virgo and it matters a lot'],\n",
       "      dtype=object)"
      ]
     },
     "execution_count": 25,
     "metadata": {},
     "output_type": "execute_result"
    }
   ],
   "source": [
    "profiles['sign'].unique()"
   ]
  },
  {
   "cell_type": "code",
   "execution_count": 26,
   "id": "bcbf2051",
   "metadata": {},
   "outputs": [
    {
     "data": {
      "text/plain": [
       "<AxesSubplot:xlabel='count', ylabel='signs_updated'>"
      ]
     },
     "execution_count": 26,
     "metadata": {},
     "output_type": "execute_result"
    },
    {
     "data": {
      "image/png": "[encoded data removed]",
      "text/plain": [
       "<Figure size 720x648 with 1 Axes>"
      ]
     },
     "metadata": {
      "needs_background": "light"
     },
     "output_type": "display_data"
    }
   ],
   "source": [
    "plt.figure(figsize=(10,9))\n",
    "profiles['signs_updated'] = profiles.sign.str.split().str.get(0)\n",
    "sns.countplot(data=profiles, y='signs_updated', hue='sex',palette='mako')"
   ]
  },
  {
   "cell_type": "markdown",
   "id": "32d9c877",
   "metadata": {},
   "source": [
    "### Distribution of Smoking Habits\n",
    "\n",
    "The distribution of the users smoking habits was examined against sex. Most of the users do not smoke and there was no indication that a users smoking habits were related to their sex. "
   ]
  },
  {
   "cell_type": "code",
   "execution_count": 27,
   "id": "0510e40d",
   "metadata": {},
   "outputs": [
    {
     "data": {
      "text/plain": [
       "<AxesSubplot:xlabel='count', ylabel='smokes'>"
      ]
     },
     "execution_count": 27,
     "metadata": {},
     "output_type": "execute_result"
    },
    {
     "data": {
      "image/png": "[encoded data removed]",
      "text/plain": [
       "<Figure size 720x648 with 1 Axes>"
      ]
     },
     "metadata": {
      "needs_background": "light"
     },
     "output_type": "display_data"
    }
   ],
   "source": [
    "plt.figure(figsize=(10,9))\n",
    "sns.countplot(data=profiles, y='smokes', hue='sex',palette='mako')"
   ]
  },
  {
   "cell_type": "code",
   "execution_count": 28,
   "id": "a2741bfd",
   "metadata": {},
   "outputs": [
    {
     "data": {
      "text/plain": [
       "age                     0\n",
       "body_type            5296\n",
       "diet                24395\n",
       "drinks               2985\n",
       "drugs               14080\n",
       "education            6628\n",
       "essay0               5488\n",
       "essay1               7572\n",
       "essay2               9638\n",
       "essay3              11476\n",
       "essay4              10537\n",
       "essay5              10850\n",
       "essay6              13771\n",
       "essay7              12451\n",
       "essay8              19225\n",
       "essay9              12603\n",
       "ethnicity            5680\n",
       "height                  3\n",
       "income                  0\n",
       "job                  8198\n",
       "last_online             0\n",
       "location                0\n",
       "offspring           35561\n",
       "orientation             0\n",
       "pets                19921\n",
       "religion            20226\n",
       "sex                     0\n",
       "sign                11056\n",
       "smokes               5512\n",
       "speaks                 50\n",
       "status                  0\n",
       "religion_updated    20226\n",
       "signs_updated       11056\n",
       "dtype: int64"
      ]
     },
     "execution_count": 28,
     "metadata": {},
     "output_type": "execute_result"
    }
   ],
   "source": [
    "profiles.isnull().sum()"
   ]
  },
  {
   "cell_type": "markdown",
   "id": "cb70b206",
   "metadata": {},
   "source": [
    "### Predicting Religion from Other Factors\n",
    "\n",
    "Utilizing three different models (Logirithmic Regression, K-Nearest Neighbors, and Decision Tree) this section works towards forming a model that predicts a user's Religion type based on other factors (Body Type, Diet, Orientation, Pets, Sex, Job, Astrological Signs). \n",
    "\n",
    "The 'cols' variable below is an array of different types of variables that could address the choice in one's Religious beliefs. "
   ]
  },
  {
   "cell_type": "code",
   "execution_count": 29,
   "id": "b0d5d9bb",
   "metadata": {},
   "outputs": [
    {
     "data": {
      "text/plain": [
       "(16453, 8)"
      ]
     },
     "execution_count": 29,
     "metadata": {},
     "output_type": "execute_result"
    }
   ],
   "source": [
    "cols = ['body_type', 'diet', 'orientation', 'pets', 'sex', 'job', 'signs_updated', 'religion_updated']\n",
    "df = profiles[cols].dropna()\n",
    "df.shape"
   ]
  },
  {
   "cell_type": "code",
   "execution_count": 30,
   "id": "e6e228a9",
   "metadata": {},
   "outputs": [
    {
     "data": {
      "text/html": [
       "<div>\n",
       "<style scoped>\n",
       "    .dataframe tbody tr th:only-of-type {\n",
       "        vertical-align: middle;\n",
       "    }\n",
       "\n",
       "    .dataframe tbody tr th {\n",
       "        vertical-align: top;\n",
       "    }\n",
       "\n",
       "    .dataframe thead th {\n",
       "        text-align: right;\n",
       "    }\n",
       "</style>\n",
       "<table border=\"1\" class=\"dataframe\">\n",
       "  <thead>\n",
       "    <tr style=\"text-align: right;\">\n",
       "      <th></th>\n",
       "      <th>body_type</th>\n",
       "      <th>diet</th>\n",
       "      <th>orientation</th>\n",
       "      <th>pets</th>\n",
       "      <th>sex</th>\n",
       "      <th>job</th>\n",
       "      <th>signs_updated</th>\n",
       "      <th>religion_updated</th>\n",
       "    </tr>\n",
       "  </thead>\n",
       "  <tbody>\n",
       "    <tr>\n",
       "      <th>0</th>\n",
       "      <td>a little extra</td>\n",
       "      <td>strictly anything</td>\n",
       "      <td>straight</td>\n",
       "      <td>likes dogs and likes cats</td>\n",
       "      <td>m</td>\n",
       "      <td>transportation</td>\n",
       "      <td>gemini</td>\n",
       "      <td>agnosticism</td>\n",
       "    </tr>\n",
       "    <tr>\n",
       "      <th>1</th>\n",
       "      <td>average</td>\n",
       "      <td>mostly other</td>\n",
       "      <td>straight</td>\n",
       "      <td>likes dogs and likes cats</td>\n",
       "      <td>m</td>\n",
       "      <td>hospitality / travel</td>\n",
       "      <td>cancer</td>\n",
       "      <td>agnosticism</td>\n",
       "    </tr>\n",
       "    <tr>\n",
       "      <th>5</th>\n",
       "      <td>average</td>\n",
       "      <td>mostly anything</td>\n",
       "      <td>straight</td>\n",
       "      <td>likes cats</td>\n",
       "      <td>m</td>\n",
       "      <td>computer / hardware / software</td>\n",
       "      <td>taurus</td>\n",
       "      <td>atheism</td>\n",
       "    </tr>\n",
       "    <tr>\n",
       "      <th>7</th>\n",
       "      <td>average</td>\n",
       "      <td>mostly anything</td>\n",
       "      <td>straight</td>\n",
       "      <td>likes dogs and likes cats</td>\n",
       "      <td>f</td>\n",
       "      <td>artistic / musical / writer</td>\n",
       "      <td>sagittarius</td>\n",
       "      <td>christianity</td>\n",
       "    </tr>\n",
       "    <tr>\n",
       "      <th>9</th>\n",
       "      <td>athletic</td>\n",
       "      <td>mostly anything</td>\n",
       "      <td>straight</td>\n",
       "      <td>likes dogs and likes cats</td>\n",
       "      <td>m</td>\n",
       "      <td>student</td>\n",
       "      <td>cancer</td>\n",
       "      <td>atheism</td>\n",
       "    </tr>\n",
       "    <tr>\n",
       "      <th>...</th>\n",
       "      <td>...</td>\n",
       "      <td>...</td>\n",
       "      <td>...</td>\n",
       "      <td>...</td>\n",
       "      <td>...</td>\n",
       "      <td>...</td>\n",
       "      <td>...</td>\n",
       "      <td>...</td>\n",
       "    </tr>\n",
       "    <tr>\n",
       "      <th>59929</th>\n",
       "      <td>average</td>\n",
       "      <td>strictly vegetarian</td>\n",
       "      <td>straight</td>\n",
       "      <td>has dogs and likes cats</td>\n",
       "      <td>m</td>\n",
       "      <td>artistic / musical / writer</td>\n",
       "      <td>pisces</td>\n",
       "      <td>atheism</td>\n",
       "    </tr>\n",
       "    <tr>\n",
       "      <th>59930</th>\n",
       "      <td>curvy</td>\n",
       "      <td>anything</td>\n",
       "      <td>gay</td>\n",
       "      <td>likes dogs and likes cats</td>\n",
       "      <td>m</td>\n",
       "      <td>political / government</td>\n",
       "      <td>aries</td>\n",
       "      <td>other</td>\n",
       "    </tr>\n",
       "    <tr>\n",
       "      <th>59934</th>\n",
       "      <td>average</td>\n",
       "      <td>anything</td>\n",
       "      <td>straight</td>\n",
       "      <td>has dogs and has cats</td>\n",
       "      <td>f</td>\n",
       "      <td>other</td>\n",
       "      <td>pisces</td>\n",
       "      <td>judaism</td>\n",
       "    </tr>\n",
       "    <tr>\n",
       "      <th>59942</th>\n",
       "      <td>fit</td>\n",
       "      <td>mostly anything</td>\n",
       "      <td>straight</td>\n",
       "      <td>likes dogs and likes cats</td>\n",
       "      <td>m</td>\n",
       "      <td>entertainment / media</td>\n",
       "      <td>leo</td>\n",
       "      <td>agnosticism</td>\n",
       "    </tr>\n",
       "    <tr>\n",
       "      <th>59944</th>\n",
       "      <td>athletic</td>\n",
       "      <td>mostly anything</td>\n",
       "      <td>straight</td>\n",
       "      <td>likes dogs and likes cats</td>\n",
       "      <td>m</td>\n",
       "      <td>medicine / health</td>\n",
       "      <td>leo</td>\n",
       "      <td>agnosticism</td>\n",
       "    </tr>\n",
       "  </tbody>\n",
       "</table>\n",
       "<p>16453 rows × 8 columns</p>\n",
       "</div>"
      ],
      "text/plain": [
       "            body_type                 diet orientation  \\\n",
       "0      a little extra    strictly anything    straight   \n",
       "1             average         mostly other    straight   \n",
       "5             average      mostly anything    straight   \n",
       "7             average      mostly anything    straight   \n",
       "9            athletic      mostly anything    straight   \n",
       "...               ...                  ...         ...   \n",
       "59929         average  strictly vegetarian    straight   \n",
       "59930           curvy             anything         gay   \n",
       "59934         average             anything    straight   \n",
       "59942             fit      mostly anything    straight   \n",
       "59944        athletic      mostly anything    straight   \n",
       "\n",
       "                            pets sex                             job  \\\n",
       "0      likes dogs and likes cats   m                  transportation   \n",
       "1      likes dogs and likes cats   m            hospitality / travel   \n",
       "5                     likes cats   m  computer / hardware / software   \n",
       "7      likes dogs and likes cats   f     artistic / musical / writer   \n",
       "9      likes dogs and likes cats   m                         student   \n",
       "...                          ...  ..                             ...   \n",
       "59929    has dogs and likes cats   m     artistic / musical / writer   \n",
       "59930  likes dogs and likes cats   m          political / government   \n",
       "59934      has dogs and has cats   f                           other   \n",
       "59942  likes dogs and likes cats   m           entertainment / media   \n",
       "59944  likes dogs and likes cats   m               medicine / health   \n",
       "\n",
       "      signs_updated religion_updated  \n",
       "0            gemini      agnosticism  \n",
       "1            cancer      agnosticism  \n",
       "5            taurus          atheism  \n",
       "7       sagittarius     christianity  \n",
       "9            cancer          atheism  \n",
       "...             ...              ...  \n",
       "59929        pisces          atheism  \n",
       "59930         aries            other  \n",
       "59934        pisces          judaism  \n",
       "59942           leo      agnosticism  \n",
       "59944           leo      agnosticism  \n",
       "\n",
       "[16453 rows x 8 columns]"
      ]
     },
     "execution_count": 30,
     "metadata": {},
     "output_type": "execute_result"
    }
   ],
   "source": [
    "df"
   ]
  },
  {
   "cell_type": "code",
   "execution_count": 31,
   "id": "e3b11966",
   "metadata": {},
   "outputs": [],
   "source": [
    "for col in cols[:-1]:\n",
    "    df = pd.get_dummies(df, columns=[col], prefix = [col])"
   ]
  },
  {
   "cell_type": "markdown",
   "id": "e575a04a",
   "metadata": {},
   "source": [
    "#### Data Imbalance:\n",
    "\n",
    "We can quickly detail that the machine learning model will not be the most accurate by finding the different value counts for Religious beliefs. Since there is a heavy favoritism in Agnosticism, Other, Atheism and Christianity, the machine learning model will be less accurate. "
   ]
  },
  {
   "cell_type": "code",
   "execution_count": 32,
   "id": "232d5e71",
   "metadata": {},
   "outputs": [
    {
     "data": {
      "text/plain": [
       "agnosticism     3857\n",
       "other           3516\n",
       "atheism         2793\n",
       "christianity    2227\n",
       "catholicism     1937\n",
       "judaism         1113\n",
       "buddhism         816\n",
       "hinduism         140\n",
       "islam             54\n",
       "Name: religion_updated, dtype: int64"
      ]
     },
     "execution_count": 32,
     "metadata": {},
     "output_type": "execute_result"
    }
   ],
   "source": [
    "df.religion_updated.value_counts()"
   ]
  },
  {
   "cell_type": "markdown",
   "id": "2f4cd236",
   "metadata": {},
   "source": [
    "#### 80/20 Split Data\n",
    "\n",
    "The data needs to be split into both train and validation sets. 80% of the data is utilized for training the model while the other 20% of the data is reserved for the final validation."
   ]
  },
  {
   "cell_type": "code",
   "execution_count": 33,
   "id": "9e551c3f",
   "metadata": {},
   "outputs": [],
   "source": [
    "col_length = len(df.columns)\n",
    "\n",
    "#Y is the target column, X has the rest\n",
    "X = df.iloc[:, 1:col_length]\n",
    "Y = df.iloc[:, 0:1]\n",
    "\n",
    "#Validation chunk size\n",
    "val_size = 0.2\n",
    "\n",
    "#Split the data into chunks\n",
    "from sklearn.model_selection import train_test_split \n",
    "X_train, X_val, Y_train, Y_val = train_test_split(X, Y, test_size=val_size, random_state = 0)\n",
    "\n",
    "#turn in to 1d arrays\n",
    "Y_train = Y_train.to_numpy().ravel()\n",
    "Y_val = Y_val.to_numpy().ravel()"
   ]
  },
  {
   "cell_type": "code",
   "execution_count": 34,
   "id": "026ef166",
   "metadata": {},
   "outputs": [],
   "source": [
    "from sklearn.linear_model import LogisticRegression\n",
    "from sklearn.tree import DecisionTreeClassifier\n",
    "from sklearn.neighbors import KNeighborsClassifier\n",
    "from sklearn.metrics import classification_report"
   ]
  },
  {
   "cell_type": "markdown",
   "id": "875f855a",
   "metadata": {},
   "source": [
    "#### Logistic Regression Model - Religion\n",
    "\n",
    "The accuracy of this model is approximately 30%. The results of this model indicate that this does not predict religion well."
   ]
  },
  {
   "cell_type": "code",
   "execution_count": 35,
   "id": "afc98aa7",
   "metadata": {},
   "outputs": [],
   "source": [
    "lr_model = LogisticRegression(multi_class=\"multinomial\").fit(X_train, Y_train)\n",
    "lr_predictions = lr_model.predict(X_train)"
   ]
  },
  {
   "cell_type": "code",
   "execution_count": 36,
   "id": "b9f43862",
   "metadata": {},
   "outputs": [
    {
     "name": "stdout",
     "output_type": "stream",
     "text": [
      "              precision    recall  f1-score   support\n",
      "\n",
      " agnosticism       0.28      0.46      0.35      3059\n",
      "     atheism       0.33      0.21      0.26      2225\n",
      "    buddhism       0.50      0.00      0.00       675\n",
      " catholicism       0.27      0.17      0.21      1541\n",
      "christianity       0.27      0.20      0.23      1783\n",
      "    hinduism       0.40      0.03      0.06       116\n",
      "       islam       0.80      0.10      0.18        39\n",
      "     judaism       0.44      0.03      0.05       906\n",
      "       other       0.31      0.48      0.38      2818\n",
      "\n",
      "    accuracy                           0.30     13162\n",
      "   macro avg       0.40      0.19      0.19     13162\n",
      "weighted avg       0.32      0.30      0.27     13162\n",
      "\n"
     ]
    }
   ],
   "source": [
    "print(classification_report(Y_train, lr_predictions))"
   ]
  },
  {
   "cell_type": "markdown",
   "id": "496949d0",
   "metadata": {},
   "source": [
    "#### K-Nearest Neighbors - Religion\n",
    "\n",
    "The accuracy of this model is approximately 46%. The results of this model indicate fairly poor results still, but are an improvement from the Logistic Regression Model"
   ]
  },
  {
   "cell_type": "code",
   "execution_count": 37,
   "id": "ef7e29ec",
   "metadata": {},
   "outputs": [],
   "source": [
    "knn_model = KNeighborsClassifier(n_neighbors = 5).fit(X_train, Y_train)\n",
    "knn_predictions = knn_model.predict(X_train)"
   ]
  },
  {
   "cell_type": "code",
   "execution_count": 38,
   "id": "ee4562f2",
   "metadata": {},
   "outputs": [
    {
     "name": "stdout",
     "output_type": "stream",
     "text": [
      "              precision    recall  f1-score   support\n",
      "\n",
      " agnosticism       0.42      0.72      0.53      3059\n",
      "     atheism       0.47      0.47      0.47      2225\n",
      "    buddhism       0.40      0.15      0.22       675\n",
      " catholicism       0.45      0.39      0.41      1541\n",
      "christianity       0.48      0.37      0.42      1783\n",
      "    hinduism       0.46      0.05      0.09       116\n",
      "       islam       0.00      0.00      0.00        39\n",
      "     judaism       0.43      0.19      0.26       906\n",
      "       other       0.53      0.43      0.47      2818\n",
      "\n",
      "    accuracy                           0.46     13162\n",
      "   macro avg       0.40      0.31      0.32     13162\n",
      "weighted avg       0.46      0.46      0.44     13162\n",
      "\n"
     ]
    }
   ],
   "source": [
    "print(classification_report(Y_train, knn_predictions))"
   ]
  },
  {
   "cell_type": "markdown",
   "id": "50ddac46",
   "metadata": {},
   "source": [
    "#### Decision Tree - Religion\n",
    "\n",
    "The accuracy of this model is approximately 87%, which predicts the Religion well; however, the Decision Tree depth was maxed out and there are 60 which indicates the model is overfit for the data. "
   ]
  },
  {
   "cell_type": "code",
   "execution_count": 39,
   "id": "d5e058cc",
   "metadata": {},
   "outputs": [],
   "source": [
    "tree_model = DecisionTreeClassifier().fit(X_train, Y_train) \n",
    "tree_predictions = tree_model.predict(X_train) "
   ]
  },
  {
   "cell_type": "code",
   "execution_count": 40,
   "id": "5652dcb7",
   "metadata": {},
   "outputs": [
    {
     "name": "stdout",
     "output_type": "stream",
     "text": [
      "              precision    recall  f1-score   support\n",
      "\n",
      " agnosticism       0.79      0.97      0.87      3059\n",
      "     atheism       0.86      0.90      0.88      2225\n",
      "    buddhism       0.87      0.85      0.86       675\n",
      " catholicism       0.87      0.86      0.86      1541\n",
      "christianity       0.91      0.83      0.87      1783\n",
      "    hinduism       0.97      0.74      0.84       116\n",
      "       islam       0.97      0.77      0.86        39\n",
      "     judaism       0.94      0.81      0.87       906\n",
      "       other       0.96      0.82      0.89      2818\n",
      "\n",
      "    accuracy                           0.87     13162\n",
      "   macro avg       0.91      0.84      0.87     13162\n",
      "weighted avg       0.88      0.87      0.87     13162\n",
      "\n"
     ]
    }
   ],
   "source": [
    "print(classification_report(Y_train, tree_predictions))"
   ]
  },
  {
   "cell_type": "code",
   "execution_count": 41,
   "id": "30495edf",
   "metadata": {},
   "outputs": [
    {
     "data": {
      "text/plain": [
       "60"
      ]
     },
     "execution_count": 41,
     "metadata": {},
     "output_type": "execute_result"
    }
   ],
   "source": [
    "tree_model.get_depth()"
   ]
  },
  {
   "cell_type": "markdown",
   "id": "8c77af49",
   "metadata": {},
   "source": [
    "#### Confusion Matrix\n",
    "\n",
    "A confusion matrix was developed to visually understand the sucess of the model. "
   ]
  },
  {
   "cell_type": "code",
   "execution_count": 42,
   "id": "297ae02c",
   "metadata": {},
   "outputs": [],
   "source": [
    "from sklearn.metrics import confusion_matrix \n",
    "tree_cm = confusion_matrix(Y_train, tree_predictions)\n",
    "tree_labels = tree_model.classes_"
   ]
  },
  {
   "cell_type": "code",
   "execution_count": 43,
   "id": "f06d84c9",
   "metadata": {},
   "outputs": [
    {
     "data": {
      "image/png": "[encoded data removed]",
      "text/plain": [
       "<Figure size 720x504 with 2 Axes>"
      ]
     },
     "metadata": {
      "needs_background": "light"
     },
     "output_type": "display_data"
    }
   ],
   "source": [
    "plt.figure(figsize=(10,7))\n",
    "\n",
    "ax= plt.subplot()\n",
    "sns.heatmap(tree_cm, annot=True, ax = ax,fmt=\"d\",cmap='mako');\n",
    "\n",
    "ax.set_xlabel('Predicted Labels');\n",
    "ax.set_ylabel('True Labels'); \n",
    "ax.set_title('Confusion Matrix - Religion');\n",
    "ax.yaxis.set_tick_params(rotation=360)\n",
    "ax.xaxis.set_tick_params(rotation=90)\n",
    "\n",
    "ax.xaxis.set_ticklabels(tree_labels); \n",
    "ax.yaxis.set_ticklabels(tree_labels);"
   ]
  },
  {
   "cell_type": "markdown",
   "id": "dbd41a4b",
   "metadata": {},
   "source": [
    "#### Validation:\n",
    "A five fold cross validation is created with the same data. The results are worse than the KNN with the baseline was ~21%."
   ]
  },
  {
   "cell_type": "code",
   "execution_count": 44,
   "id": "0a883929",
   "metadata": {},
   "outputs": [
    {
     "name": "stdout",
     "output_type": "stream",
     "text": [
      "[0.21382453 0.21154577 0.21010638 0.21352584 0.20212766]\n",
      "Baseline: 21.02% (0.43%)\n"
     ]
    }
   ],
   "source": [
    "from sklearn.model_selection import KFold\n",
    "from sklearn.model_selection import cross_val_score\n",
    "\n",
    "kfold = KFold(n_splits=5, shuffle=True, random_state=0)\n",
    "results = cross_val_score(tree_model, X_train, Y_train, cv=kfold, scoring='accuracy')\n",
    "\n",
    "print(results)\n",
    "print(\"Baseline: %.2f%% (%.2f%%)\" % (results.mean()*100, results.std()*100))"
   ]
  },
  {
   "cell_type": "markdown",
   "id": "0e0e84d7",
   "metadata": {},
   "source": [
    "### Predicting Body Type from Other Factors\n",
    "\n",
    "Utilizing three different models (Logirithmic Regression, K-Nearest Neighbors, and Decision Tree) this section works towards forming a model that predicts a user's body type based on other factors (Religion, Diet, Orientation, Pets, Sex, Job, Astrological Signs). "
   ]
  },
  {
   "cell_type": "code",
   "execution_count": 45,
   "id": "a6651b4b",
   "metadata": {},
   "outputs": [
    {
     "data": {
      "text/plain": [
       "(16453, 8)"
      ]
     },
     "execution_count": 45,
     "metadata": {},
     "output_type": "execute_result"
    }
   ],
   "source": [
    "cols2 = ['religion_updated', 'diet', 'orientation', 'pets', 'sex', 'job', 'signs_updated','body_type']\n",
    "df2 = profiles[cols2].dropna()\n",
    "df2.shape"
   ]
  },
  {
   "cell_type": "code",
   "execution_count": 46,
   "id": "91d161cc",
   "metadata": {},
   "outputs": [
    {
     "data": {
      "text/html": [
       "<div>\n",
       "<style scoped>\n",
       "    .dataframe tbody tr th:only-of-type {\n",
       "        vertical-align: middle;\n",
       "    }\n",
       "\n",
       "    .dataframe tbody tr th {\n",
       "        vertical-align: top;\n",
       "    }\n",
       "\n",
       "    .dataframe thead th {\n",
       "        text-align: right;\n",
       "    }\n",
       "</style>\n",
       "<table border=\"1\" class=\"dataframe\">\n",
       "  <thead>\n",
       "    <tr style=\"text-align: right;\">\n",
       "      <th></th>\n",
       "      <th>religion_updated</th>\n",
       "      <th>diet</th>\n",
       "      <th>orientation</th>\n",
       "      <th>pets</th>\n",
       "      <th>sex</th>\n",
       "      <th>job</th>\n",
       "      <th>signs_updated</th>\n",
       "      <th>body_type</th>\n",
       "    </tr>\n",
       "  </thead>\n",
       "  <tbody>\n",
       "    <tr>\n",
       "      <th>0</th>\n",
       "      <td>agnosticism</td>\n",
       "      <td>strictly anything</td>\n",
       "      <td>straight</td>\n",
       "      <td>likes dogs and likes cats</td>\n",
       "      <td>m</td>\n",
       "      <td>transportation</td>\n",
       "      <td>gemini</td>\n",
       "      <td>a little extra</td>\n",
       "    </tr>\n",
       "    <tr>\n",
       "      <th>1</th>\n",
       "      <td>agnosticism</td>\n",
       "      <td>mostly other</td>\n",
       "      <td>straight</td>\n",
       "      <td>likes dogs and likes cats</td>\n",
       "      <td>m</td>\n",
       "      <td>hospitality / travel</td>\n",
       "      <td>cancer</td>\n",
       "      <td>average</td>\n",
       "    </tr>\n",
       "    <tr>\n",
       "      <th>5</th>\n",
       "      <td>atheism</td>\n",
       "      <td>mostly anything</td>\n",
       "      <td>straight</td>\n",
       "      <td>likes cats</td>\n",
       "      <td>m</td>\n",
       "      <td>computer / hardware / software</td>\n",
       "      <td>taurus</td>\n",
       "      <td>average</td>\n",
       "    </tr>\n",
       "    <tr>\n",
       "      <th>7</th>\n",
       "      <td>christianity</td>\n",
       "      <td>mostly anything</td>\n",
       "      <td>straight</td>\n",
       "      <td>likes dogs and likes cats</td>\n",
       "      <td>f</td>\n",
       "      <td>artistic / musical / writer</td>\n",
       "      <td>sagittarius</td>\n",
       "      <td>average</td>\n",
       "    </tr>\n",
       "    <tr>\n",
       "      <th>9</th>\n",
       "      <td>atheism</td>\n",
       "      <td>mostly anything</td>\n",
       "      <td>straight</td>\n",
       "      <td>likes dogs and likes cats</td>\n",
       "      <td>m</td>\n",
       "      <td>student</td>\n",
       "      <td>cancer</td>\n",
       "      <td>athletic</td>\n",
       "    </tr>\n",
       "    <tr>\n",
       "      <th>...</th>\n",
       "      <td>...</td>\n",
       "      <td>...</td>\n",
       "      <td>...</td>\n",
       "      <td>...</td>\n",
       "      <td>...</td>\n",
       "      <td>...</td>\n",
       "      <td>...</td>\n",
       "      <td>...</td>\n",
       "    </tr>\n",
       "    <tr>\n",
       "      <th>59929</th>\n",
       "      <td>atheism</td>\n",
       "      <td>strictly vegetarian</td>\n",
       "      <td>straight</td>\n",
       "      <td>has dogs and likes cats</td>\n",
       "      <td>m</td>\n",
       "      <td>artistic / musical / writer</td>\n",
       "      <td>pisces</td>\n",
       "      <td>average</td>\n",
       "    </tr>\n",
       "    <tr>\n",
       "      <th>59930</th>\n",
       "      <td>other</td>\n",
       "      <td>anything</td>\n",
       "      <td>gay</td>\n",
       "      <td>likes dogs and likes cats</td>\n",
       "      <td>m</td>\n",
       "      <td>political / government</td>\n",
       "      <td>aries</td>\n",
       "      <td>curvy</td>\n",
       "    </tr>\n",
       "    <tr>\n",
       "      <th>59934</th>\n",
       "      <td>judaism</td>\n",
       "      <td>anything</td>\n",
       "      <td>straight</td>\n",
       "      <td>has dogs and has cats</td>\n",
       "      <td>f</td>\n",
       "      <td>other</td>\n",
       "      <td>pisces</td>\n",
       "      <td>average</td>\n",
       "    </tr>\n",
       "    <tr>\n",
       "      <th>59942</th>\n",
       "      <td>agnosticism</td>\n",
       "      <td>mostly anything</td>\n",
       "      <td>straight</td>\n",
       "      <td>likes dogs and likes cats</td>\n",
       "      <td>m</td>\n",
       "      <td>entertainment / media</td>\n",
       "      <td>leo</td>\n",
       "      <td>fit</td>\n",
       "    </tr>\n",
       "    <tr>\n",
       "      <th>59944</th>\n",
       "      <td>agnosticism</td>\n",
       "      <td>mostly anything</td>\n",
       "      <td>straight</td>\n",
       "      <td>likes dogs and likes cats</td>\n",
       "      <td>m</td>\n",
       "      <td>medicine / health</td>\n",
       "      <td>leo</td>\n",
       "      <td>athletic</td>\n",
       "    </tr>\n",
       "  </tbody>\n",
       "</table>\n",
       "<p>16453 rows × 8 columns</p>\n",
       "</div>"
      ],
      "text/plain": [
       "      religion_updated                 diet orientation  \\\n",
       "0          agnosticism    strictly anything    straight   \n",
       "1          agnosticism         mostly other    straight   \n",
       "5              atheism      mostly anything    straight   \n",
       "7         christianity      mostly anything    straight   \n",
       "9              atheism      mostly anything    straight   \n",
       "...                ...                  ...         ...   \n",
       "59929          atheism  strictly vegetarian    straight   \n",
       "59930            other             anything         gay   \n",
       "59934          judaism             anything    straight   \n",
       "59942      agnosticism      mostly anything    straight   \n",
       "59944      agnosticism      mostly anything    straight   \n",
       "\n",
       "                            pets sex                             job  \\\n",
       "0      likes dogs and likes cats   m                  transportation   \n",
       "1      likes dogs and likes cats   m            hospitality / travel   \n",
       "5                     likes cats   m  computer / hardware / software   \n",
       "7      likes dogs and likes cats   f     artistic / musical / writer   \n",
       "9      likes dogs and likes cats   m                         student   \n",
       "...                          ...  ..                             ...   \n",
       "59929    has dogs and likes cats   m     artistic / musical / writer   \n",
       "59930  likes dogs and likes cats   m          political / government   \n",
       "59934      has dogs and has cats   f                           other   \n",
       "59942  likes dogs and likes cats   m           entertainment / media   \n",
       "59944  likes dogs and likes cats   m               medicine / health   \n",
       "\n",
       "      signs_updated       body_type  \n",
       "0            gemini  a little extra  \n",
       "1            cancer         average  \n",
       "5            taurus         average  \n",
       "7       sagittarius         average  \n",
       "9            cancer        athletic  \n",
       "...             ...             ...  \n",
       "59929        pisces         average  \n",
       "59930         aries           curvy  \n",
       "59934        pisces         average  \n",
       "59942           leo             fit  \n",
       "59944           leo        athletic  \n",
       "\n",
       "[16453 rows x 8 columns]"
      ]
     },
     "execution_count": 46,
     "metadata": {},
     "output_type": "execute_result"
    }
   ],
   "source": [
    "df2"
   ]
  },
  {
   "cell_type": "code",
   "execution_count": 47,
   "id": "3e672f75",
   "metadata": {},
   "outputs": [],
   "source": [
    "for col in cols2[:-1]:\n",
    "    df2 = pd.get_dummies(df2, columns=[col], prefix = [col])"
   ]
  },
  {
   "cell_type": "code",
   "execution_count": 48,
   "id": "3fa8927d",
   "metadata": {},
   "outputs": [
    {
     "data": {
      "text/html": [
       "<div>\n",
       "<style scoped>\n",
       "    .dataframe tbody tr th:only-of-type {\n",
       "        vertical-align: middle;\n",
       "    }\n",
       "\n",
       "    .dataframe tbody tr th {\n",
       "        vertical-align: top;\n",
       "    }\n",
       "\n",
       "    .dataframe thead th {\n",
       "        text-align: right;\n",
       "    }\n",
       "</style>\n",
       "<table border=\"1\" class=\"dataframe\">\n",
       "  <thead>\n",
       "    <tr style=\"text-align: right;\">\n",
       "      <th></th>\n",
       "      <th>body_type</th>\n",
       "      <th>religion_updated_agnosticism</th>\n",
       "      <th>religion_updated_atheism</th>\n",
       "      <th>religion_updated_buddhism</th>\n",
       "      <th>religion_updated_catholicism</th>\n",
       "      <th>religion_updated_christianity</th>\n",
       "      <th>religion_updated_hinduism</th>\n",
       "      <th>religion_updated_islam</th>\n",
       "      <th>religion_updated_judaism</th>\n",
       "      <th>religion_updated_other</th>\n",
       "      <th>...</th>\n",
       "      <th>signs_updated_cancer</th>\n",
       "      <th>signs_updated_capricorn</th>\n",
       "      <th>signs_updated_gemini</th>\n",
       "      <th>signs_updated_leo</th>\n",
       "      <th>signs_updated_libra</th>\n",
       "      <th>signs_updated_pisces</th>\n",
       "      <th>signs_updated_sagittarius</th>\n",
       "      <th>signs_updated_scorpio</th>\n",
       "      <th>signs_updated_taurus</th>\n",
       "      <th>signs_updated_virgo</th>\n",
       "    </tr>\n",
       "  </thead>\n",
       "  <tbody>\n",
       "    <tr>\n",
       "      <th>0</th>\n",
       "      <td>a little extra</td>\n",
       "      <td>1</td>\n",
       "      <td>0</td>\n",
       "      <td>0</td>\n",
       "      <td>0</td>\n",
       "      <td>0</td>\n",
       "      <td>0</td>\n",
       "      <td>0</td>\n",
       "      <td>0</td>\n",
       "      <td>0</td>\n",
       "      <td>...</td>\n",
       "      <td>0</td>\n",
       "      <td>0</td>\n",
       "      <td>1</td>\n",
       "      <td>0</td>\n",
       "      <td>0</td>\n",
       "      <td>0</td>\n",
       "      <td>0</td>\n",
       "      <td>0</td>\n",
       "      <td>0</td>\n",
       "      <td>0</td>\n",
       "    </tr>\n",
       "    <tr>\n",
       "      <th>1</th>\n",
       "      <td>average</td>\n",
       "      <td>1</td>\n",
       "      <td>0</td>\n",
       "      <td>0</td>\n",
       "      <td>0</td>\n",
       "      <td>0</td>\n",
       "      <td>0</td>\n",
       "      <td>0</td>\n",
       "      <td>0</td>\n",
       "      <td>0</td>\n",
       "      <td>...</td>\n",
       "      <td>1</td>\n",
       "      <td>0</td>\n",
       "      <td>0</td>\n",
       "      <td>0</td>\n",
       "      <td>0</td>\n",
       "      <td>0</td>\n",
       "      <td>0</td>\n",
       "      <td>0</td>\n",
       "      <td>0</td>\n",
       "      <td>0</td>\n",
       "    </tr>\n",
       "    <tr>\n",
       "      <th>5</th>\n",
       "      <td>average</td>\n",
       "      <td>0</td>\n",
       "      <td>1</td>\n",
       "      <td>0</td>\n",
       "      <td>0</td>\n",
       "      <td>0</td>\n",
       "      <td>0</td>\n",
       "      <td>0</td>\n",
       "      <td>0</td>\n",
       "      <td>0</td>\n",
       "      <td>...</td>\n",
       "      <td>0</td>\n",
       "      <td>0</td>\n",
       "      <td>0</td>\n",
       "      <td>0</td>\n",
       "      <td>0</td>\n",
       "      <td>0</td>\n",
       "      <td>0</td>\n",
       "      <td>0</td>\n",
       "      <td>1</td>\n",
       "      <td>0</td>\n",
       "    </tr>\n",
       "    <tr>\n",
       "      <th>7</th>\n",
       "      <td>average</td>\n",
       "      <td>0</td>\n",
       "      <td>0</td>\n",
       "      <td>0</td>\n",
       "      <td>0</td>\n",
       "      <td>1</td>\n",
       "      <td>0</td>\n",
       "      <td>0</td>\n",
       "      <td>0</td>\n",
       "      <td>0</td>\n",
       "      <td>...</td>\n",
       "      <td>0</td>\n",
       "      <td>0</td>\n",
       "      <td>0</td>\n",
       "      <td>0</td>\n",
       "      <td>0</td>\n",
       "      <td>0</td>\n",
       "      <td>1</td>\n",
       "      <td>0</td>\n",
       "      <td>0</td>\n",
       "      <td>0</td>\n",
       "    </tr>\n",
       "    <tr>\n",
       "      <th>9</th>\n",
       "      <td>athletic</td>\n",
       "      <td>0</td>\n",
       "      <td>1</td>\n",
       "      <td>0</td>\n",
       "      <td>0</td>\n",
       "      <td>0</td>\n",
       "      <td>0</td>\n",
       "      <td>0</td>\n",
       "      <td>0</td>\n",
       "      <td>0</td>\n",
       "      <td>...</td>\n",
       "      <td>1</td>\n",
       "      <td>0</td>\n",
       "      <td>0</td>\n",
       "      <td>0</td>\n",
       "      <td>0</td>\n",
       "      <td>0</td>\n",
       "      <td>0</td>\n",
       "      <td>0</td>\n",
       "      <td>0</td>\n",
       "      <td>0</td>\n",
       "    </tr>\n",
       "    <tr>\n",
       "      <th>...</th>\n",
       "      <td>...</td>\n",
       "      <td>...</td>\n",
       "      <td>...</td>\n",
       "      <td>...</td>\n",
       "      <td>...</td>\n",
       "      <td>...</td>\n",
       "      <td>...</td>\n",
       "      <td>...</td>\n",
       "      <td>...</td>\n",
       "      <td>...</td>\n",
       "      <td>...</td>\n",
       "      <td>...</td>\n",
       "      <td>...</td>\n",
       "      <td>...</td>\n",
       "      <td>...</td>\n",
       "      <td>...</td>\n",
       "      <td>...</td>\n",
       "      <td>...</td>\n",
       "      <td>...</td>\n",
       "      <td>...</td>\n",
       "      <td>...</td>\n",
       "    </tr>\n",
       "    <tr>\n",
       "      <th>59929</th>\n",
       "      <td>average</td>\n",
       "      <td>0</td>\n",
       "      <td>1</td>\n",
       "      <td>0</td>\n",
       "      <td>0</td>\n",
       "      <td>0</td>\n",
       "      <td>0</td>\n",
       "      <td>0</td>\n",
       "      <td>0</td>\n",
       "      <td>0</td>\n",
       "      <td>...</td>\n",
       "      <td>0</td>\n",
       "      <td>0</td>\n",
       "      <td>0</td>\n",
       "      <td>0</td>\n",
       "      <td>0</td>\n",
       "      <td>1</td>\n",
       "      <td>0</td>\n",
       "      <td>0</td>\n",
       "      <td>0</td>\n",
       "      <td>0</td>\n",
       "    </tr>\n",
       "    <tr>\n",
       "      <th>59930</th>\n",
       "      <td>curvy</td>\n",
       "      <td>0</td>\n",
       "      <td>0</td>\n",
       "      <td>0</td>\n",
       "      <td>0</td>\n",
       "      <td>0</td>\n",
       "      <td>0</td>\n",
       "      <td>0</td>\n",
       "      <td>0</td>\n",
       "      <td>1</td>\n",
       "      <td>...</td>\n",
       "      <td>0</td>\n",
       "      <td>0</td>\n",
       "      <td>0</td>\n",
       "      <td>0</td>\n",
       "      <td>0</td>\n",
       "      <td>0</td>\n",
       "      <td>0</td>\n",
       "      <td>0</td>\n",
       "      <td>0</td>\n",
       "      <td>0</td>\n",
       "    </tr>\n",
       "    <tr>\n",
       "      <th>59934</th>\n",
       "      <td>average</td>\n",
       "      <td>0</td>\n",
       "      <td>0</td>\n",
       "      <td>0</td>\n",
       "      <td>0</td>\n",
       "      <td>0</td>\n",
       "      <td>0</td>\n",
       "      <td>0</td>\n",
       "      <td>1</td>\n",
       "      <td>0</td>\n",
       "      <td>...</td>\n",
       "      <td>0</td>\n",
       "      <td>0</td>\n",
       "      <td>0</td>\n",
       "      <td>0</td>\n",
       "      <td>0</td>\n",
       "      <td>1</td>\n",
       "      <td>0</td>\n",
       "      <td>0</td>\n",
       "      <td>0</td>\n",
       "      <td>0</td>\n",
       "    </tr>\n",
       "    <tr>\n",
       "      <th>59942</th>\n",
       "      <td>fit</td>\n",
       "      <td>1</td>\n",
       "      <td>0</td>\n",
       "      <td>0</td>\n",
       "      <td>0</td>\n",
       "      <td>0</td>\n",
       "      <td>0</td>\n",
       "      <td>0</td>\n",
       "      <td>0</td>\n",
       "      <td>0</td>\n",
       "      <td>...</td>\n",
       "      <td>0</td>\n",
       "      <td>0</td>\n",
       "      <td>0</td>\n",
       "      <td>1</td>\n",
       "      <td>0</td>\n",
       "      <td>0</td>\n",
       "      <td>0</td>\n",
       "      <td>0</td>\n",
       "      <td>0</td>\n",
       "      <td>0</td>\n",
       "    </tr>\n",
       "    <tr>\n",
       "      <th>59944</th>\n",
       "      <td>athletic</td>\n",
       "      <td>1</td>\n",
       "      <td>0</td>\n",
       "      <td>0</td>\n",
       "      <td>0</td>\n",
       "      <td>0</td>\n",
       "      <td>0</td>\n",
       "      <td>0</td>\n",
       "      <td>0</td>\n",
       "      <td>0</td>\n",
       "      <td>...</td>\n",
       "      <td>0</td>\n",
       "      <td>0</td>\n",
       "      <td>0</td>\n",
       "      <td>1</td>\n",
       "      <td>0</td>\n",
       "      <td>0</td>\n",
       "      <td>0</td>\n",
       "      <td>0</td>\n",
       "      <td>0</td>\n",
       "      <td>0</td>\n",
       "    </tr>\n",
       "  </tbody>\n",
       "</table>\n",
       "<p>16453 rows × 81 columns</p>\n",
       "</div>"
      ],
      "text/plain": [
       "            body_type  religion_updated_agnosticism  religion_updated_atheism  \\\n",
       "0      a little extra                             1                         0   \n",
       "1             average                             1                         0   \n",
       "5             average                             0                         1   \n",
       "7             average                             0                         0   \n",
       "9            athletic                             0                         1   \n",
       "...               ...                           ...                       ...   \n",
       "59929         average                             0                         1   \n",
       "59930           curvy                             0                         0   \n",
       "59934         average                             0                         0   \n",
       "59942             fit                             1                         0   \n",
       "59944        athletic                             1                         0   \n",
       "\n",
       "       religion_updated_buddhism  religion_updated_catholicism  \\\n",
       "0                              0                             0   \n",
       "1                              0                             0   \n",
       "5                              0                             0   \n",
       "7                              0                             0   \n",
       "9                              0                             0   \n",
       "...                          ...                           ...   \n",
       "59929                          0                             0   \n",
       "59930                          0                             0   \n",
       "59934                          0                             0   \n",
       "59942                          0                             0   \n",
       "59944                          0                             0   \n",
       "\n",
       "       religion_updated_christianity  religion_updated_hinduism  \\\n",
       "0                                  0                          0   \n",
       "1                                  0                          0   \n",
       "5                                  0                          0   \n",
       "7                                  1                          0   \n",
       "9                                  0                          0   \n",
       "...                              ...                        ...   \n",
       "59929                              0                          0   \n",
       "59930                              0                          0   \n",
       "59934                              0                          0   \n",
       "59942                              0                          0   \n",
       "59944                              0                          0   \n",
       "\n",
       "       religion_updated_islam  religion_updated_judaism  \\\n",
       "0                           0                         0   \n",
       "1                           0                         0   \n",
       "5                           0                         0   \n",
       "7                           0                         0   \n",
       "9                           0                         0   \n",
       "...                       ...                       ...   \n",
       "59929                       0                         0   \n",
       "59930                       0                         0   \n",
       "59934                       0                         1   \n",
       "59942                       0                         0   \n",
       "59944                       0                         0   \n",
       "\n",
       "       religion_updated_other  ...  signs_updated_cancer  \\\n",
       "0                           0  ...                     0   \n",
       "1                           0  ...                     1   \n",
       "5                           0  ...                     0   \n",
       "7                           0  ...                     0   \n",
       "9                           0  ...                     1   \n",
       "...                       ...  ...                   ...   \n",
       "59929                       0  ...                     0   \n",
       "59930                       1  ...                     0   \n",
       "59934                       0  ...                     0   \n",
       "59942                       0  ...                     0   \n",
       "59944                       0  ...                     0   \n",
       "\n",
       "       signs_updated_capricorn  signs_updated_gemini  signs_updated_leo  \\\n",
       "0                            0                     1                  0   \n",
       "1                            0                     0                  0   \n",
       "5                            0                     0                  0   \n",
       "7                            0                     0                  0   \n",
       "9                            0                     0                  0   \n",
       "...                        ...                   ...                ...   \n",
       "59929                        0                     0                  0   \n",
       "59930                        0                     0                  0   \n",
       "59934                        0                     0                  0   \n",
       "59942                        0                     0                  1   \n",
       "59944                        0                     0                  1   \n",
       "\n",
       "       signs_updated_libra  signs_updated_pisces  signs_updated_sagittarius  \\\n",
       "0                        0                     0                          0   \n",
       "1                        0                     0                          0   \n",
       "5                        0                     0                          0   \n",
       "7                        0                     0                          1   \n",
       "9                        0                     0                          0   \n",
       "...                    ...                   ...                        ...   \n",
       "59929                    0                     1                          0   \n",
       "59930                    0                     0                          0   \n",
       "59934                    0                     1                          0   \n",
       "59942                    0                     0                          0   \n",
       "59944                    0                     0                          0   \n",
       "\n",
       "       signs_updated_scorpio  signs_updated_taurus  signs_updated_virgo  \n",
       "0                          0                     0                    0  \n",
       "1                          0                     0                    0  \n",
       "5                          0                     1                    0  \n",
       "7                          0                     0                    0  \n",
       "9                          0                     0                    0  \n",
       "...                      ...                   ...                  ...  \n",
       "59929                      0                     0                    0  \n",
       "59930                      0                     0                    0  \n",
       "59934                      0                     0                    0  \n",
       "59942                      0                     0                    0  \n",
       "59944                      0                     0                    0  \n",
       "\n",
       "[16453 rows x 81 columns]"
      ]
     },
     "execution_count": 48,
     "metadata": {},
     "output_type": "execute_result"
    }
   ],
   "source": [
    "df2"
   ]
  },
  {
   "cell_type": "markdown",
   "id": "e85a54d4",
   "metadata": {},
   "source": [
    "#### Data Imbalance:\n",
    "\n",
    "We can quickly detail that the machine learning model will not be the most accurate by finding the different value counts for Body Type. Since there is a heavy favoritism in Average, Fit, and Atletic, the machine learning model will be less accurate. This is similiar to the religion models."
   ]
  },
  {
   "cell_type": "code",
   "execution_count": 49,
   "id": "378ba701",
   "metadata": {},
   "outputs": [
    {
     "data": {
      "text/plain": [
       "average           4447\n",
       "fit               3622\n",
       "athletic          3186\n",
       "curvy             1458\n",
       "thin              1383\n",
       "a little extra     991\n",
       "skinny             481\n",
       "full figured       379\n",
       "overweight         174\n",
       "jacked             147\n",
       "used up            139\n",
       "rather not say      46\n",
       "Name: body_type, dtype: int64"
      ]
     },
     "execution_count": 49,
     "metadata": {},
     "output_type": "execute_result"
    }
   ],
   "source": [
    "df2.body_type.value_counts()"
   ]
  },
  {
   "cell_type": "code",
   "execution_count": 50,
   "id": "d97ba11a",
   "metadata": {},
   "outputs": [],
   "source": [
    "col2_length = len(df2.columns)\n",
    "\n",
    "#Y is the target column, X has the rest\n",
    "X = df2.iloc[:, 1:col2_length]\n",
    "Y = df2.iloc[:, 0:1]\n",
    "\n",
    "#Validation chunk size\n",
    "val_size = 0.2\n",
    "\n",
    "#Split the data into chunks\n",
    "from sklearn.model_selection import train_test_split \n",
    "X_train_2, X_val_2, Y_train_2, Y_val_2 = train_test_split(X, Y, test_size=val_size, random_state = 0)\n",
    "\n",
    "#turn in to 1d arrays\n",
    "Y_train_2 = Y_train_2.to_numpy().ravel()\n",
    "Y_val_2 = Y_val_2.to_numpy().ravel()"
   ]
  },
  {
   "cell_type": "markdown",
   "id": "ed0be04a",
   "metadata": {},
   "source": [
    "#### Logistic Regression Model - Body Type\n",
    "\n",
    "The accuracy of this model is approximately 31%. The results of this model indicate that this does not predict body type well."
   ]
  },
  {
   "cell_type": "code",
   "execution_count": 51,
   "id": "5358a1fb",
   "metadata": {},
   "outputs": [],
   "source": [
    "lr_model_2 = LogisticRegression(multi_class=\"multinomial\").fit(X_train_2, Y_train_2)\n",
    "lr_predictions_2 = lr_model_2.predict(X_train_2)"
   ]
  },
  {
   "cell_type": "code",
   "execution_count": 52,
   "id": "9e0c3e60",
   "metadata": {},
   "outputs": [
    {
     "name": "stdout",
     "output_type": "stream",
     "text": [
      "                precision    recall  f1-score   support\n",
      "\n",
      "a little extra       0.17      0.00      0.00       784\n",
      "      athletic       0.37      0.34      0.35      2531\n",
      "       average       0.30      0.60      0.40      3582\n",
      "         curvy       0.30      0.30      0.30      1155\n",
      "           fit       0.30      0.26      0.28      2866\n",
      "  full figured       0.44      0.01      0.03       310\n",
      "        jacked       0.67      0.02      0.03       115\n",
      "    overweight       0.00      0.00      0.00       143\n",
      "rather not say       0.00      0.00      0.00        42\n",
      "        skinny       0.00      0.00      0.00       393\n",
      "          thin       0.26      0.01      0.02      1136\n",
      "       used up       0.00      0.00      0.00       105\n",
      "\n",
      "      accuracy                           0.31     13162\n",
      "     macro avg       0.23      0.13      0.12     13162\n",
      "  weighted avg       0.29      0.31      0.27     13162\n",
      "\n"
     ]
    }
   ],
   "source": [
    "print(classification_report(Y_train_2, lr_predictions_2))"
   ]
  },
  {
   "cell_type": "markdown",
   "id": "2655d168",
   "metadata": {},
   "source": [
    "#### K-Nearest Neighbors - Body Type\n",
    "\n",
    "The accuracy of this model is approximately 47%. The results of this model indicate fairly poor results still, but are an improvement from the Logistic Regression Model for estimating body type."
   ]
  },
  {
   "cell_type": "code",
   "execution_count": 53,
   "id": "220d43fe",
   "metadata": {},
   "outputs": [],
   "source": [
    "knn_model_2 = KNeighborsClassifier(n_neighbors = 5).fit(X_train_2, Y_train_2)\n",
    "knn_predictions_2 = knn_model_2.predict(X_train_2)"
   ]
  },
  {
   "cell_type": "code",
   "execution_count": 54,
   "id": "03284682",
   "metadata": {},
   "outputs": [
    {
     "name": "stdout",
     "output_type": "stream",
     "text": [
      "                precision    recall  f1-score   support\n",
      "\n",
      "a little extra       0.32      0.39      0.35       784\n",
      "      athletic       0.46      0.63      0.53      2531\n",
      "       average       0.48      0.62      0.54      3582\n",
      "         curvy       0.48      0.45      0.46      1155\n",
      "           fit       0.50      0.42      0.46      2866\n",
      "  full figured       0.51      0.11      0.18       310\n",
      "        jacked       0.38      0.03      0.05       115\n",
      "    overweight       0.00      0.00      0.00       143\n",
      "rather not say       0.00      0.00      0.00        42\n",
      "        skinny       0.50      0.08      0.13       393\n",
      "          thin       0.44      0.19      0.27      1136\n",
      "       used up       0.40      0.02      0.04       105\n",
      "\n",
      "      accuracy                           0.47     13162\n",
      "     macro avg       0.37      0.24      0.25     13162\n",
      "  weighted avg       0.46      0.47      0.44     13162\n",
      "\n"
     ]
    }
   ],
   "source": [
    "print(classification_report(Y_train_2, knn_predictions_2))"
   ]
  },
  {
   "cell_type": "markdown",
   "id": "18abe075",
   "metadata": {},
   "source": [
    "#### Decision Tree - Body Type\n",
    "\n",
    "The accuracy of this model is approximately 88%, which predicts the body type well; however, the Decision Tree depth was maxed out and there are 56 which indicates the model is overfit for the data. "
   ]
  },
  {
   "cell_type": "code",
   "execution_count": 55,
   "id": "9330e117",
   "metadata": {},
   "outputs": [],
   "source": [
    "tree_model_2 = DecisionTreeClassifier().fit(X_train_2, Y_train_2) \n",
    "tree_predictions_2 = tree_model_2.predict(X_train_2) "
   ]
  },
  {
   "cell_type": "code",
   "execution_count": 56,
   "id": "826430cf",
   "metadata": {},
   "outputs": [
    {
     "name": "stdout",
     "output_type": "stream",
     "text": [
      "                precision    recall  f1-score   support\n",
      "\n",
      "a little extra       0.77      0.95      0.85       784\n",
      "      athletic       0.82      0.95      0.88      2531\n",
      "       average       0.87      0.91      0.89      3582\n",
      "         curvy       0.92      0.91      0.92      1155\n",
      "           fit       0.93      0.83      0.88      2866\n",
      "  full figured       0.98      0.84      0.90       310\n",
      "        jacked       0.98      0.77      0.86       115\n",
      "    overweight       0.99      0.80      0.88       143\n",
      "rather not say       0.97      0.79      0.87        42\n",
      "        skinny       0.96      0.78      0.86       393\n",
      "          thin       0.98      0.78      0.87      1136\n",
      "       used up       1.00      0.79      0.88       105\n",
      "\n",
      "      accuracy                           0.88     13162\n",
      "     macro avg       0.93      0.84      0.88     13162\n",
      "  weighted avg       0.89      0.88      0.88     13162\n",
      "\n"
     ]
    }
   ],
   "source": [
    "print(classification_report(Y_train_2, tree_predictions_2))"
   ]
  },
  {
   "cell_type": "code",
   "execution_count": 57,
   "id": "ec9f3ac7",
   "metadata": {},
   "outputs": [
    {
     "data": {
      "text/plain": [
       "56"
      ]
     },
     "execution_count": 57,
     "metadata": {},
     "output_type": "execute_result"
    }
   ],
   "source": [
    "tree_model_2.get_depth()"
   ]
  },
  {
   "cell_type": "markdown",
   "id": "445c8891",
   "metadata": {},
   "source": [
    "#### Confusion Matrix\n",
    "\n",
    "A confusion matrix was developed to visually understand the sucess of the model. "
   ]
  },
  {
   "cell_type": "code",
   "execution_count": 58,
   "id": "b8d4f8c8",
   "metadata": {},
   "outputs": [],
   "source": [
    "tree_cm_2 = confusion_matrix(Y_train_2, tree_predictions_2)\n",
    "tree_labels_2 = tree_model_2.classes_"
   ]
  },
  {
   "cell_type": "code",
   "execution_count": 59,
   "id": "22178b02",
   "metadata": {},
   "outputs": [
    {
     "data": {
      "image/png": "[encoded data removed]",
      "text/plain": [
       "<Figure size 720x504 with 2 Axes>"
      ]
     },
     "metadata": {
      "needs_background": "light"
     },
     "output_type": "display_data"
    }
   ],
   "source": [
    "plt.figure(figsize=(10,7))\n",
    "\n",
    "ax= plt.subplot()\n",
    "sns.heatmap(tree_cm_2, annot=True, ax = ax,fmt=\"d\", cmap='mako');\n",
    "\n",
    "ax.set_xlabel('Predicted Labels');\n",
    "ax.set_ylabel('True Labels'); \n",
    "ax.set_title('Confusion Matrix - Body Type');\n",
    "ax.yaxis.set_tick_params(rotation=360)\n",
    "ax.xaxis.set_tick_params(rotation=90)\n",
    "\n",
    "ax.xaxis.set_ticklabels(tree_labels_2); \n",
    "ax.yaxis.set_ticklabels(tree_labels_2);"
   ]
  },
  {
   "cell_type": "markdown",
   "id": "1590c339",
   "metadata": {},
   "source": [
    "#### Validation:\n",
    "A five fold cross validation is created with the same data. The results are worse than the KNN with the baseline was ~22%."
   ]
  },
  {
   "cell_type": "code",
   "execution_count": 60,
   "id": "f91c1921",
   "metadata": {},
   "outputs": [
    {
     "name": "stdout",
     "output_type": "stream",
     "text": [
      "[0.23053551 0.22977592 0.22834347 0.2112462  0.21276596]\n",
      "Baseline: 22.25% (0.86%)\n"
     ]
    }
   ],
   "source": [
    "kfold_2 = KFold(n_splits=5, shuffle=True, random_state=0)\n",
    "results_2 = cross_val_score(tree_model_2, X_train_2, Y_train_2, cv=kfold, scoring='accuracy')\n",
    "\n",
    "print(results_2)\n",
    "print(\"Baseline: %.2f%% (%.2f%%)\" % (results_2.mean()*100, results_2.std()*100))"
   ]
  },
  {
   "cell_type": "markdown",
   "id": "d96cbc11",
   "metadata": {},
   "source": [
    "### Predicting Astrological Signs from Other Factors\n",
    "\n",
    "Utilizing three different models (Logirithmic Regression, K-Nearest Neighbors, and Decision Tree) this section works towards forming a model that predicts a user's astrological sign based on other factors (Religion, Diet, Orientation, Pets, Sex, Job, Body Type). "
   ]
  },
  {
   "cell_type": "code",
   "execution_count": 61,
   "id": "7faa1ce7",
   "metadata": {},
   "outputs": [
    {
     "data": {
      "text/plain": [
       "(16453, 8)"
      ]
     },
     "execution_count": 61,
     "metadata": {},
     "output_type": "execute_result"
    }
   ],
   "source": [
    "cols3 = ['body_type','religion_updated', 'diet', 'orientation', 'pets', 'sex', 'job', 'signs_updated']\n",
    "df3 = profiles[cols3].dropna()\n",
    "df3.shape"
   ]
  },
  {
   "cell_type": "code",
   "execution_count": 62,
   "id": "9fdb8390",
   "metadata": {},
   "outputs": [],
   "source": [
    "for col in cols3[:-1]:\n",
    "    df3 = pd.get_dummies(df3, columns=[col], prefix = [col])"
   ]
  },
  {
   "cell_type": "code",
   "execution_count": 63,
   "id": "aa856a21",
   "metadata": {},
   "outputs": [
    {
     "data": {
      "text/html": [
       "<div>\n",
       "<style scoped>\n",
       "    .dataframe tbody tr th:only-of-type {\n",
       "        vertical-align: middle;\n",
       "    }\n",
       "\n",
       "    .dataframe tbody tr th {\n",
       "        vertical-align: top;\n",
       "    }\n",
       "\n",
       "    .dataframe thead th {\n",
       "        text-align: right;\n",
       "    }\n",
       "</style>\n",
       "<table border=\"1\" class=\"dataframe\">\n",
       "  <thead>\n",
       "    <tr style=\"text-align: right;\">\n",
       "      <th></th>\n",
       "      <th>signs_updated</th>\n",
       "      <th>body_type_a little extra</th>\n",
       "      <th>body_type_athletic</th>\n",
       "      <th>body_type_average</th>\n",
       "      <th>body_type_curvy</th>\n",
       "      <th>body_type_fit</th>\n",
       "      <th>body_type_full figured</th>\n",
       "      <th>body_type_jacked</th>\n",
       "      <th>body_type_overweight</th>\n",
       "      <th>body_type_rather not say</th>\n",
       "      <th>...</th>\n",
       "      <th>job_military</th>\n",
       "      <th>job_other</th>\n",
       "      <th>job_political / government</th>\n",
       "      <th>job_rather not say</th>\n",
       "      <th>job_retired</th>\n",
       "      <th>job_sales / marketing / biz dev</th>\n",
       "      <th>job_science / tech / engineering</th>\n",
       "      <th>job_student</th>\n",
       "      <th>job_transportation</th>\n",
       "      <th>job_unemployed</th>\n",
       "    </tr>\n",
       "  </thead>\n",
       "  <tbody>\n",
       "    <tr>\n",
       "      <th>0</th>\n",
       "      <td>gemini</td>\n",
       "      <td>1</td>\n",
       "      <td>0</td>\n",
       "      <td>0</td>\n",
       "      <td>0</td>\n",
       "      <td>0</td>\n",
       "      <td>0</td>\n",
       "      <td>0</td>\n",
       "      <td>0</td>\n",
       "      <td>0</td>\n",
       "      <td>...</td>\n",
       "      <td>0</td>\n",
       "      <td>0</td>\n",
       "      <td>0</td>\n",
       "      <td>0</td>\n",
       "      <td>0</td>\n",
       "      <td>0</td>\n",
       "      <td>0</td>\n",
       "      <td>0</td>\n",
       "      <td>1</td>\n",
       "      <td>0</td>\n",
       "    </tr>\n",
       "    <tr>\n",
       "      <th>1</th>\n",
       "      <td>cancer</td>\n",
       "      <td>0</td>\n",
       "      <td>0</td>\n",
       "      <td>1</td>\n",
       "      <td>0</td>\n",
       "      <td>0</td>\n",
       "      <td>0</td>\n",
       "      <td>0</td>\n",
       "      <td>0</td>\n",
       "      <td>0</td>\n",
       "      <td>...</td>\n",
       "      <td>0</td>\n",
       "      <td>0</td>\n",
       "      <td>0</td>\n",
       "      <td>0</td>\n",
       "      <td>0</td>\n",
       "      <td>0</td>\n",
       "      <td>0</td>\n",
       "      <td>0</td>\n",
       "      <td>0</td>\n",
       "      <td>0</td>\n",
       "    </tr>\n",
       "    <tr>\n",
       "      <th>5</th>\n",
       "      <td>taurus</td>\n",
       "      <td>0</td>\n",
       "      <td>0</td>\n",
       "      <td>1</td>\n",
       "      <td>0</td>\n",
       "      <td>0</td>\n",
       "      <td>0</td>\n",
       "      <td>0</td>\n",
       "      <td>0</td>\n",
       "      <td>0</td>\n",
       "      <td>...</td>\n",
       "      <td>0</td>\n",
       "      <td>0</td>\n",
       "      <td>0</td>\n",
       "      <td>0</td>\n",
       "      <td>0</td>\n",
       "      <td>0</td>\n",
       "      <td>0</td>\n",
       "      <td>0</td>\n",
       "      <td>0</td>\n",
       "      <td>0</td>\n",
       "    </tr>\n",
       "    <tr>\n",
       "      <th>7</th>\n",
       "      <td>sagittarius</td>\n",
       "      <td>0</td>\n",
       "      <td>0</td>\n",
       "      <td>1</td>\n",
       "      <td>0</td>\n",
       "      <td>0</td>\n",
       "      <td>0</td>\n",
       "      <td>0</td>\n",
       "      <td>0</td>\n",
       "      <td>0</td>\n",
       "      <td>...</td>\n",
       "      <td>0</td>\n",
       "      <td>0</td>\n",
       "      <td>0</td>\n",
       "      <td>0</td>\n",
       "      <td>0</td>\n",
       "      <td>0</td>\n",
       "      <td>0</td>\n",
       "      <td>0</td>\n",
       "      <td>0</td>\n",
       "      <td>0</td>\n",
       "    </tr>\n",
       "    <tr>\n",
       "      <th>9</th>\n",
       "      <td>cancer</td>\n",
       "      <td>0</td>\n",
       "      <td>1</td>\n",
       "      <td>0</td>\n",
       "      <td>0</td>\n",
       "      <td>0</td>\n",
       "      <td>0</td>\n",
       "      <td>0</td>\n",
       "      <td>0</td>\n",
       "      <td>0</td>\n",
       "      <td>...</td>\n",
       "      <td>0</td>\n",
       "      <td>0</td>\n",
       "      <td>0</td>\n",
       "      <td>0</td>\n",
       "      <td>0</td>\n",
       "      <td>0</td>\n",
       "      <td>0</td>\n",
       "      <td>1</td>\n",
       "      <td>0</td>\n",
       "      <td>0</td>\n",
       "    </tr>\n",
       "    <tr>\n",
       "      <th>...</th>\n",
       "      <td>...</td>\n",
       "      <td>...</td>\n",
       "      <td>...</td>\n",
       "      <td>...</td>\n",
       "      <td>...</td>\n",
       "      <td>...</td>\n",
       "      <td>...</td>\n",
       "      <td>...</td>\n",
       "      <td>...</td>\n",
       "      <td>...</td>\n",
       "      <td>...</td>\n",
       "      <td>...</td>\n",
       "      <td>...</td>\n",
       "      <td>...</td>\n",
       "      <td>...</td>\n",
       "      <td>...</td>\n",
       "      <td>...</td>\n",
       "      <td>...</td>\n",
       "      <td>...</td>\n",
       "      <td>...</td>\n",
       "      <td>...</td>\n",
       "    </tr>\n",
       "    <tr>\n",
       "      <th>59929</th>\n",
       "      <td>pisces</td>\n",
       "      <td>0</td>\n",
       "      <td>0</td>\n",
       "      <td>1</td>\n",
       "      <td>0</td>\n",
       "      <td>0</td>\n",
       "      <td>0</td>\n",
       "      <td>0</td>\n",
       "      <td>0</td>\n",
       "      <td>0</td>\n",
       "      <td>...</td>\n",
       "      <td>0</td>\n",
       "      <td>0</td>\n",
       "      <td>0</td>\n",
       "      <td>0</td>\n",
       "      <td>0</td>\n",
       "      <td>0</td>\n",
       "      <td>0</td>\n",
       "      <td>0</td>\n",
       "      <td>0</td>\n",
       "      <td>0</td>\n",
       "    </tr>\n",
       "    <tr>\n",
       "      <th>59930</th>\n",
       "      <td>aries</td>\n",
       "      <td>0</td>\n",
       "      <td>0</td>\n",
       "      <td>0</td>\n",
       "      <td>1</td>\n",
       "      <td>0</td>\n",
       "      <td>0</td>\n",
       "      <td>0</td>\n",
       "      <td>0</td>\n",
       "      <td>0</td>\n",
       "      <td>...</td>\n",
       "      <td>0</td>\n",
       "      <td>0</td>\n",
       "      <td>1</td>\n",
       "      <td>0</td>\n",
       "      <td>0</td>\n",
       "      <td>0</td>\n",
       "      <td>0</td>\n",
       "      <td>0</td>\n",
       "      <td>0</td>\n",
       "      <td>0</td>\n",
       "    </tr>\n",
       "    <tr>\n",
       "      <th>59934</th>\n",
       "      <td>pisces</td>\n",
       "      <td>0</td>\n",
       "      <td>0</td>\n",
       "      <td>1</td>\n",
       "      <td>0</td>\n",
       "      <td>0</td>\n",
       "      <td>0</td>\n",
       "      <td>0</td>\n",
       "      <td>0</td>\n",
       "      <td>0</td>\n",
       "      <td>...</td>\n",
       "      <td>0</td>\n",
       "      <td>1</td>\n",
       "      <td>0</td>\n",
       "      <td>0</td>\n",
       "      <td>0</td>\n",
       "      <td>0</td>\n",
       "      <td>0</td>\n",
       "      <td>0</td>\n",
       "      <td>0</td>\n",
       "      <td>0</td>\n",
       "    </tr>\n",
       "    <tr>\n",
       "      <th>59942</th>\n",
       "      <td>leo</td>\n",
       "      <td>0</td>\n",
       "      <td>0</td>\n",
       "      <td>0</td>\n",
       "      <td>0</td>\n",
       "      <td>1</td>\n",
       "      <td>0</td>\n",
       "      <td>0</td>\n",
       "      <td>0</td>\n",
       "      <td>0</td>\n",
       "      <td>...</td>\n",
       "      <td>0</td>\n",
       "      <td>0</td>\n",
       "      <td>0</td>\n",
       "      <td>0</td>\n",
       "      <td>0</td>\n",
       "      <td>0</td>\n",
       "      <td>0</td>\n",
       "      <td>0</td>\n",
       "      <td>0</td>\n",
       "      <td>0</td>\n",
       "    </tr>\n",
       "    <tr>\n",
       "      <th>59944</th>\n",
       "      <td>leo</td>\n",
       "      <td>0</td>\n",
       "      <td>1</td>\n",
       "      <td>0</td>\n",
       "      <td>0</td>\n",
       "      <td>0</td>\n",
       "      <td>0</td>\n",
       "      <td>0</td>\n",
       "      <td>0</td>\n",
       "      <td>0</td>\n",
       "      <td>...</td>\n",
       "      <td>0</td>\n",
       "      <td>0</td>\n",
       "      <td>0</td>\n",
       "      <td>0</td>\n",
       "      <td>0</td>\n",
       "      <td>0</td>\n",
       "      <td>0</td>\n",
       "      <td>0</td>\n",
       "      <td>0</td>\n",
       "      <td>0</td>\n",
       "    </tr>\n",
       "  </tbody>\n",
       "</table>\n",
       "<p>16453 rows × 81 columns</p>\n",
       "</div>"
      ],
      "text/plain": [
       "      signs_updated  body_type_a little extra  body_type_athletic  \\\n",
       "0            gemini                         1                   0   \n",
       "1            cancer                         0                   0   \n",
       "5            taurus                         0                   0   \n",
       "7       sagittarius                         0                   0   \n",
       "9            cancer                         0                   1   \n",
       "...             ...                       ...                 ...   \n",
       "59929        pisces                         0                   0   \n",
       "59930         aries                         0                   0   \n",
       "59934        pisces                         0                   0   \n",
       "59942           leo                         0                   0   \n",
       "59944           leo                         0                   1   \n",
       "\n",
       "       body_type_average  body_type_curvy  body_type_fit  \\\n",
       "0                      0                0              0   \n",
       "1                      1                0              0   \n",
       "5                      1                0              0   \n",
       "7                      1                0              0   \n",
       "9                      0                0              0   \n",
       "...                  ...              ...            ...   \n",
       "59929                  1                0              0   \n",
       "59930                  0                1              0   \n",
       "59934                  1                0              0   \n",
       "59942                  0                0              1   \n",
       "59944                  0                0              0   \n",
       "\n",
       "       body_type_full figured  body_type_jacked  body_type_overweight  \\\n",
       "0                           0                 0                     0   \n",
       "1                           0                 0                     0   \n",
       "5                           0                 0                     0   \n",
       "7                           0                 0                     0   \n",
       "9                           0                 0                     0   \n",
       "...                       ...               ...                   ...   \n",
       "59929                       0                 0                     0   \n",
       "59930                       0                 0                     0   \n",
       "59934                       0                 0                     0   \n",
       "59942                       0                 0                     0   \n",
       "59944                       0                 0                     0   \n",
       "\n",
       "       body_type_rather not say  ...  job_military  job_other  \\\n",
       "0                             0  ...             0          0   \n",
       "1                             0  ...             0          0   \n",
       "5                             0  ...             0          0   \n",
       "7                             0  ...             0          0   \n",
       "9                             0  ...             0          0   \n",
       "...                         ...  ...           ...        ...   \n",
       "59929                         0  ...             0          0   \n",
       "59930                         0  ...             0          0   \n",
       "59934                         0  ...             0          1   \n",
       "59942                         0  ...             0          0   \n",
       "59944                         0  ...             0          0   \n",
       "\n",
       "       job_political / government  job_rather not say  job_retired  \\\n",
       "0                               0                   0            0   \n",
       "1                               0                   0            0   \n",
       "5                               0                   0            0   \n",
       "7                               0                   0            0   \n",
       "9                               0                   0            0   \n",
       "...                           ...                 ...          ...   \n",
       "59929                           0                   0            0   \n",
       "59930                           1                   0            0   \n",
       "59934                           0                   0            0   \n",
       "59942                           0                   0            0   \n",
       "59944                           0                   0            0   \n",
       "\n",
       "       job_sales / marketing / biz dev  job_science / tech / engineering  \\\n",
       "0                                    0                                 0   \n",
       "1                                    0                                 0   \n",
       "5                                    0                                 0   \n",
       "7                                    0                                 0   \n",
       "9                                    0                                 0   \n",
       "...                                ...                               ...   \n",
       "59929                                0                                 0   \n",
       "59930                                0                                 0   \n",
       "59934                                0                                 0   \n",
       "59942                                0                                 0   \n",
       "59944                                0                                 0   \n",
       "\n",
       "       job_student  job_transportation  job_unemployed  \n",
       "0                0                   1               0  \n",
       "1                0                   0               0  \n",
       "5                0                   0               0  \n",
       "7                0                   0               0  \n",
       "9                1                   0               0  \n",
       "...            ...                 ...             ...  \n",
       "59929            0                   0               0  \n",
       "59930            0                   0               0  \n",
       "59934            0                   0               0  \n",
       "59942            0                   0               0  \n",
       "59944            0                   0               0  \n",
       "\n",
       "[16453 rows x 81 columns]"
      ]
     },
     "execution_count": 63,
     "metadata": {},
     "output_type": "execute_result"
    }
   ],
   "source": [
    "df3"
   ]
  },
  {
   "cell_type": "markdown",
   "id": "ba51933e",
   "metadata": {},
   "source": [
    "#### Balanced Data\n",
    "\n",
    "As opposed to the previous two categories (Religion and Body Type), the data here is well-distributed throughout each category, making the machine learning prediction more accurate. "
   ]
  },
  {
   "cell_type": "code",
   "execution_count": 64,
   "id": "f390c2f4",
   "metadata": {},
   "outputs": [
    {
     "data": {
      "text/plain": [
       "leo            1516\n",
       "gemini         1496\n",
       "cancer         1457\n",
       "virgo          1451\n",
       "taurus         1390\n",
       "scorpio        1356\n",
       "libra          1354\n",
       "pisces         1334\n",
       "aries          1328\n",
       "sagittarius    1312\n",
       "aquarius       1262\n",
       "capricorn      1197\n",
       "Name: signs_updated, dtype: int64"
      ]
     },
     "execution_count": 64,
     "metadata": {},
     "output_type": "execute_result"
    }
   ],
   "source": [
    "df3.signs_updated.value_counts()"
   ]
  },
  {
   "cell_type": "code",
   "execution_count": 65,
   "id": "4b98e6c0",
   "metadata": {},
   "outputs": [],
   "source": [
    "col3_length = len(df3.columns)\n",
    "\n",
    "#Y is the target column, X has the rest\n",
    "X = df3.iloc[:, 1:col3_length]\n",
    "Y = df3.iloc[:, 0:1]\n",
    "\n",
    "#Validation chunk size\n",
    "val_size = 0.2\n",
    "\n",
    "#Split the data into chunks\n",
    "from sklearn.model_selection import train_test_split \n",
    "X_train_3, X_val_3, Y_train_3, Y_val_3 = train_test_split(X, Y, test_size=val_size, random_state = 0)\n",
    "\n",
    "#turn in to 1d arrays\n",
    "Y_train_3 = Y_train_3.to_numpy().ravel()\n",
    "Y_val_3 = Y_val_3.to_numpy().ravel()"
   ]
  },
  {
   "cell_type": "markdown",
   "id": "96e0445b",
   "metadata": {},
   "source": [
    "#### Logistic Regression Model - Astrological Signs\n",
    "\n",
    "The accuracy of this model is approximately 12%. The results of this model indicate that this does not predict astrological signs well."
   ]
  },
  {
   "cell_type": "code",
   "execution_count": 66,
   "id": "f2edda80",
   "metadata": {},
   "outputs": [],
   "source": [
    "lr_model_3 = LogisticRegression(multi_class=\"multinomial\").fit(X_train_3, Y_train_3)\n",
    "lr_predictions_3 = lr_model_3.predict(X_train_3)"
   ]
  },
  {
   "cell_type": "code",
   "execution_count": 67,
   "id": "a884ad48",
   "metadata": {},
   "outputs": [
    {
     "name": "stdout",
     "output_type": "stream",
     "text": [
      "              precision    recall  f1-score   support\n",
      "\n",
      "    aquarius       0.12      0.08      0.09      1031\n",
      "       aries       0.11      0.08      0.10      1043\n",
      "      cancer       0.13      0.22      0.16      1190\n",
      "   capricorn       0.12      0.04      0.06       952\n",
      "      gemini       0.12      0.13      0.12      1200\n",
      "         leo       0.12      0.20      0.15      1208\n",
      "       libra       0.12      0.09      0.11      1090\n",
      "      pisces       0.11      0.07      0.09      1059\n",
      " sagittarius       0.13      0.10      0.12      1051\n",
      "     scorpio       0.13      0.05      0.07      1072\n",
      "      taurus       0.13      0.12      0.12      1102\n",
      "       virgo       0.12      0.22      0.16      1164\n",
      "\n",
      "    accuracy                           0.12     13162\n",
      "   macro avg       0.12      0.12      0.11     13162\n",
      "weighted avg       0.12      0.12      0.11     13162\n",
      "\n"
     ]
    }
   ],
   "source": [
    "print(classification_report(Y_train_3, lr_predictions_3))"
   ]
  },
  {
   "cell_type": "markdown",
   "id": "bf3cf3c4",
   "metadata": {},
   "source": [
    "#### K-Nearest Neighbors - Astrological Signs\n",
    "\n",
    "The accuracy of this model is approximately 33%. The results of this model indicate fairly poor results still, but are an improvement from the Logistic Regression Model for estimating astrological signs."
   ]
  },
  {
   "cell_type": "code",
   "execution_count": 68,
   "id": "52127e9c",
   "metadata": {},
   "outputs": [],
   "source": [
    "knn_model_3 = KNeighborsClassifier(n_neighbors = 5).fit(X_train_3, Y_train_3)\n",
    "knn_predictions_3 = knn_model_3.predict(X_train_3)"
   ]
  },
  {
   "cell_type": "code",
   "execution_count": 69,
   "id": "c89a99a6",
   "metadata": {},
   "outputs": [
    {
     "name": "stdout",
     "output_type": "stream",
     "text": [
      "              precision    recall  f1-score   support\n",
      "\n",
      "    aquarius       0.26      0.66      0.37      1031\n",
      "       aries       0.27      0.53      0.36      1043\n",
      "      cancer       0.30      0.43      0.35      1190\n",
      "   capricorn       0.31      0.33      0.32       952\n",
      "      gemini       0.35      0.30      0.32      1200\n",
      "         leo       0.40      0.28      0.33      1208\n",
      "       libra       0.37      0.27      0.31      1090\n",
      "      pisces       0.41      0.24      0.31      1059\n",
      " sagittarius       0.41      0.21      0.28      1051\n",
      "     scorpio       0.41      0.23      0.30      1072\n",
      "      taurus       0.41      0.23      0.29      1102\n",
      "       virgo       0.41      0.26      0.32      1164\n",
      "\n",
      "    accuracy                           0.33     13162\n",
      "   macro avg       0.36      0.33      0.32     13162\n",
      "weighted avg       0.36      0.33      0.32     13162\n",
      "\n"
     ]
    }
   ],
   "source": [
    "print(classification_report(Y_train_3, knn_predictions_3))"
   ]
  },
  {
   "cell_type": "markdown",
   "id": "7bf8e08c",
   "metadata": {},
   "source": [
    "#### Decision Tree - Astrological Signs\n",
    "\n",
    "The accuracy of this model is approximately 78%, which predicts the astrological sign well; however, the Decision Tree depth was maxed out and there are 58 which indicates the model is overfit for the data. "
   ]
  },
  {
   "cell_type": "code",
   "execution_count": 70,
   "id": "32cc485a",
   "metadata": {},
   "outputs": [],
   "source": [
    "tree_model_3 = DecisionTreeClassifier().fit(X_train_3, Y_train_3) \n",
    "tree_predictions_3 = tree_model_3.predict(X_train_3) "
   ]
  },
  {
   "cell_type": "code",
   "execution_count": 71,
   "id": "645195c3",
   "metadata": {},
   "outputs": [
    {
     "name": "stdout",
     "output_type": "stream",
     "text": [
      "              precision    recall  f1-score   support\n",
      "\n",
      "    aquarius       0.66      0.94      0.78      1031\n",
      "       aries       0.66      0.87      0.75      1043\n",
      "      cancer       0.69      0.85      0.77      1190\n",
      "   capricorn       0.74      0.83      0.78       952\n",
      "      gemini       0.78      0.79      0.78      1200\n",
      "         leo       0.79      0.80      0.79      1208\n",
      "       libra       0.78      0.76      0.77      1090\n",
      "      pisces       0.82      0.73      0.77      1059\n",
      " sagittarius       0.91      0.69      0.78      1051\n",
      "     scorpio       0.87      0.71      0.78      1072\n",
      "      taurus       0.92      0.70      0.79      1102\n",
      "       virgo       0.91      0.67      0.77      1164\n",
      "\n",
      "    accuracy                           0.78     13162\n",
      "   macro avg       0.79      0.78      0.78     13162\n",
      "weighted avg       0.80      0.78      0.78     13162\n",
      "\n"
     ]
    }
   ],
   "source": [
    "print(classification_report(Y_train_3, tree_predictions_3))"
   ]
  },
  {
   "cell_type": "code",
   "execution_count": 72,
   "id": "27037539",
   "metadata": {},
   "outputs": [
    {
     "data": {
      "text/plain": [
       "58"
      ]
     },
     "execution_count": 72,
     "metadata": {},
     "output_type": "execute_result"
    }
   ],
   "source": [
    "tree_model_3.get_depth()"
   ]
  },
  {
   "cell_type": "markdown",
   "id": "08c93cb8",
   "metadata": {},
   "source": [
    "#### Confusion Matrix\n",
    "\n",
    "A confusion matrix was developed to visually understand the sucess of the model. "
   ]
  },
  {
   "cell_type": "code",
   "execution_count": 73,
   "id": "1020a7f3",
   "metadata": {},
   "outputs": [],
   "source": [
    "tree_cm_3 = confusion_matrix(Y_train_3, tree_predictions_3)\n",
    "tree_labels_3 = tree_model_3.classes_"
   ]
  },
  {
   "cell_type": "code",
   "execution_count": 74,
   "id": "dc1d5ee1",
   "metadata": {},
   "outputs": [
    {
     "data": {
      "image/png": "[encoded data removed]",
      "text/plain": [
       "<Figure size 720x504 with 2 Axes>"
      ]
     },
     "metadata": {
      "needs_background": "light"
     },
     "output_type": "display_data"
    }
   ],
   "source": [
    "plt.figure(figsize=(10,7))\n",
    "\n",
    "ax= plt.subplot()\n",
    "sns.heatmap(tree_cm_3, annot=True, ax = ax,fmt=\"d\",cmap='mako');\n",
    "\n",
    "ax.set_xlabel('Predicted Labels');\n",
    "ax.set_ylabel('True Labels'); \n",
    "ax.set_title('Confusion Matrix - Astrological Sign');\n",
    "ax.yaxis.set_tick_params(rotation=360)\n",
    "ax.xaxis.set_tick_params(rotation=90)\n",
    "\n",
    "ax.xaxis.set_ticklabels(tree_labels_3); \n",
    "ax.yaxis.set_ticklabels(tree_labels_3);"
   ]
  },
  {
   "cell_type": "markdown",
   "id": "6fdf5e22",
   "metadata": {},
   "source": [
    "#### Validation:\n",
    "A five fold cross validation is created with the same data. The results are worse than the KNN with the baseline was ~9%."
   ]
  },
  {
   "cell_type": "code",
   "execution_count": 75,
   "id": "1579f09d",
   "metadata": {},
   "outputs": [
    {
     "name": "stdout",
     "output_type": "stream",
     "text": [
      "[0.08393468 0.09950627 0.10030395 0.08244681 0.07636778]\n",
      "Baseline: 8.85% (0.96%)\n"
     ]
    }
   ],
   "source": [
    "kfold_3 = KFold(n_splits=5, shuffle=True, random_state=0)\n",
    "results_3= cross_val_score(tree_model_3, X_train_3, Y_train_3, cv=kfold, scoring='accuracy')\n",
    "\n",
    "print(results_3)\n",
    "print(\"Baseline: %.2f%% (%.2f%%)\" % (results_3.mean()*100, results_3.std()*100))"
   ]
  },
  {
   "cell_type": "markdown",
   "id": "f8da1394",
   "metadata": {},
   "source": [
    "# Conclusions: \n",
    "\n",
    "* Data visualization proved that some categories tend to have a relationship with the sex of the user, while most do not. \n",
    "* The machine learning models used for predicting various user categories proved to be not the most accurate: \n",
    "  * For predicting religion, the data was found to be skewed towards four specific religions (Agnosticism, Other, Atheism, Christianity) making the prediction lean towards those options. This can be easily visualized in the confusion matrix heatmap showing that true positives for the other religions aren't as available. The analysis was still conducted and the model with the best results came from the Decision Tree model; however, this model was vastly overfit with a depth of almost 60. The K Nearest Neighbors model would be the most accurate model with a 46% accuracy.\n",
    "  * For predicting body type, similar results were found to religion with heavy data imbalance towards specific body types. This can be easily visualized in the confusion matrix heatmap showing that true positives for the other body types not as well-represented aren't as available. The analysis was still conducted and the model with the best results came from the Decision Tree model; however, this model was vastly overfit with a depth of almost 60. The K Nearest Neighbors model would be the most accurate model with a 46% accuracy.\n",
    "  * For predicting astrological signs, the data was not imbalanced as opposed to the data for religion and body type. The analysis was conducted and the model with the best results came from the Decision Tree model; however, this model was vastly overfit with a depth of almost 60. The K Nearest Neighbors model would be the most accurate model with a 33% accuracy. \n",
    "\n",
    "  "
   ]
  },
  {
   "cell_type": "markdown",
   "id": "2c613ebb",
   "metadata": {},
   "source": [
    "# Future Projects:\n",
    "\n",
    "* Future analysis can try:\n",
    "    * Capping the depth of the Decision Tree Model to see if there's a better represented model than the KNN model without overfitting for the data. \n",
    "    * Providing different machine learning models (ADABoost, Random Forest, etc.) to see if other models better predict religion, body type, and astrological signs.\n",
    "    * Conducting the same three models for other categorical variables to see if any of these yield better results. \n",
    "    "
   ]
  },
  {
   "cell_type": "code",
   "execution_count": null,
   "id": "6f01ed5a",
   "metadata": {},
   "outputs": [],
   "source": []
  }
 ],
 "metadata": {
  "kernelspec": {
   "display_name": "Python 3 (ipykernel)",
   "language": "python",
   "name": "python3"
  },
  "language_info": {
   "codemirror_mode": {
    "name": "ipython",
    "version": 3
   },
   "file_extension": ".py",
   "mimetype": "text/x-python",
   "name": "python",
   "nbconvert_exporter": "python",
   "pygments_lexer": "ipython3",
   "version": "3.9.7"
  }
 },
 "nbformat": 4,
 "nbformat_minor": 5
}
